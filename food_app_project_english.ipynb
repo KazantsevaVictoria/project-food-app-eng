{
 "cells": [
  {
   "cell_type": "markdown",
   "metadata": {},
   "source": [
    "# Analysis of user behavior in a food product's sale mobile application"
   ]
  },
  {
   "cell_type": "markdown",
   "metadata": {},
   "source": [
    "## Introduction"
   ]
  },
  {
   "cell_type": "markdown",
   "metadata": {},
   "source": [
    "In the upcoming project, our task is to analyze the behavior of users in a food product's sale mobile application.\n",
    "We will analyze data that contains information about events that users made in the application, as well as examine the results of an A/A/B test conducted by marketers.\n",
    "Our research will include the following steps:\n",
    "1. We will study the sales funnel.\n",
    "2. Find out how users conduct a purchase.\n",
    "3. Make an analysis of the number of users who made a purchase. Find out how many were eliminated on the previous steps, and on which particular steps.\n",
    "4. Explore the results of the A/A/B experiment.\n",
    "5. We will decide whether to stop or continue the experiment.\n",
    "6. Draw conclusions based on the conducted study."
   ]
  },
  {
   "cell_type": "markdown",
   "metadata": {},
   "source": [
    "## Get familiar with data"
   ]
  },
  {
   "cell_type": "markdown",
   "metadata": {},
   "source": [
    "### Import of libraries"
   ]
  },
  {
   "cell_type": "code",
   "execution_count": 82,
   "metadata": {},
   "outputs": [],
   "source": [
    "import pandas as pd\n",
    "import math as mth\n",
    "import numpy as np\n",
    "from datetime import datetime, timedelta\n",
    "import seaborn as sns\n",
    "from matplotlib import pyplot as plt\n",
    "from scipy import stats as st\n",
    "import warnings\n",
    "warnings.filterwarnings('ignore')\n",
    "import plotly.express as px \n",
    "from plotly import graph_objects as go"
   ]
  },
  {
   "cell_type": "markdown",
   "metadata": {},
   "source": [
    "We imported necessary libraries."
   ]
  },
  {
   "cell_type": "markdown",
   "metadata": {},
   "source": [
    "### Import of datasets"
   ]
  },
  {
   "cell_type": "code",
   "execution_count": 83,
   "metadata": {},
   "outputs": [],
   "source": [
    "try:\n",
    "    data = pd.read_csv('C:/Praktikum/food_app_project/logs_exp.csv',sep='\\t', engine='python') \n",
    "except: \n",
    "      data = pd.read_csv('/datasets/logs_exp.csv',sep='\\t', engine='python')"
   ]
  },
  {
   "cell_type": "code",
   "execution_count": 84,
   "metadata": {},
   "outputs": [
    {
     "name": "stdout",
     "output_type": "stream",
     "text": [
      "Main information:\n",
      "\n",
      "<class 'pandas.core.frame.DataFrame'>\n",
      "RangeIndex: 244126 entries, 0 to 244125\n",
      "Data columns (total 4 columns):\n",
      " #   Column          Non-Null Count   Dtype \n",
      "---  ------          --------------   ----- \n",
      " 0   EventName       244126 non-null  object\n",
      " 1   DeviceIDHash    244126 non-null  int64 \n",
      " 2   EventTimestamp  244126 non-null  int64 \n",
      " 3   ExpId           244126 non-null  int64 \n",
      "dtypes: int64(3), object(1)\n",
      "memory usage: 7.5+ MB\n",
      "\n",
      "The first 10 rows of the data:\n"
     ]
    },
    {
     "data": {
      "text/html": [
       "<div>\n",
       "<style scoped>\n",
       "    .dataframe tbody tr th:only-of-type {\n",
       "        vertical-align: middle;\n",
       "    }\n",
       "\n",
       "    .dataframe tbody tr th {\n",
       "        vertical-align: top;\n",
       "    }\n",
       "\n",
       "    .dataframe thead th {\n",
       "        text-align: right;\n",
       "    }\n",
       "</style>\n",
       "<table border=\"1\" class=\"dataframe\">\n",
       "  <thead>\n",
       "    <tr style=\"text-align: right;\">\n",
       "      <th></th>\n",
       "      <th>EventName</th>\n",
       "      <th>DeviceIDHash</th>\n",
       "      <th>EventTimestamp</th>\n",
       "      <th>ExpId</th>\n",
       "    </tr>\n",
       "  </thead>\n",
       "  <tbody>\n",
       "    <tr>\n",
       "      <th>0</th>\n",
       "      <td>MainScreenAppear</td>\n",
       "      <td>4575588528974610257</td>\n",
       "      <td>1564029816</td>\n",
       "      <td>246</td>\n",
       "    </tr>\n",
       "    <tr>\n",
       "      <th>1</th>\n",
       "      <td>MainScreenAppear</td>\n",
       "      <td>7416695313311560658</td>\n",
       "      <td>1564053102</td>\n",
       "      <td>246</td>\n",
       "    </tr>\n",
       "    <tr>\n",
       "      <th>2</th>\n",
       "      <td>PaymentScreenSuccessful</td>\n",
       "      <td>3518123091307005509</td>\n",
       "      <td>1564054127</td>\n",
       "      <td>248</td>\n",
       "    </tr>\n",
       "    <tr>\n",
       "      <th>3</th>\n",
       "      <td>CartScreenAppear</td>\n",
       "      <td>3518123091307005509</td>\n",
       "      <td>1564054127</td>\n",
       "      <td>248</td>\n",
       "    </tr>\n",
       "    <tr>\n",
       "      <th>4</th>\n",
       "      <td>PaymentScreenSuccessful</td>\n",
       "      <td>6217807653094995999</td>\n",
       "      <td>1564055322</td>\n",
       "      <td>248</td>\n",
       "    </tr>\n",
       "  </tbody>\n",
       "</table>\n",
       "</div>"
      ],
      "text/plain": [
       "                 EventName         DeviceIDHash  EventTimestamp  ExpId\n",
       "0         MainScreenAppear  4575588528974610257      1564029816    246\n",
       "1         MainScreenAppear  7416695313311560658      1564053102    246\n",
       "2  PaymentScreenSuccessful  3518123091307005509      1564054127    248\n",
       "3         CartScreenAppear  3518123091307005509      1564054127    248\n",
       "4  PaymentScreenSuccessful  6217807653094995999      1564055322    248"
      ]
     },
     "metadata": {},
     "output_type": "display_data"
    },
    {
     "name": "stdout",
     "output_type": "stream",
     "text": [
      "\n",
      "Main characteristics of the data:\n"
     ]
    },
    {
     "data": {
      "text/html": [
       "<div>\n",
       "<style scoped>\n",
       "    .dataframe tbody tr th:only-of-type {\n",
       "        vertical-align: middle;\n",
       "    }\n",
       "\n",
       "    .dataframe tbody tr th {\n",
       "        vertical-align: top;\n",
       "    }\n",
       "\n",
       "    .dataframe thead th {\n",
       "        text-align: right;\n",
       "    }\n",
       "</style>\n",
       "<table border=\"1\" class=\"dataframe\">\n",
       "  <thead>\n",
       "    <tr style=\"text-align: right;\">\n",
       "      <th></th>\n",
       "      <th>DeviceIDHash</th>\n",
       "      <th>EventTimestamp</th>\n",
       "      <th>ExpId</th>\n",
       "    </tr>\n",
       "  </thead>\n",
       "  <tbody>\n",
       "    <tr>\n",
       "      <th>count</th>\n",
       "      <td>2.441260e+05</td>\n",
       "      <td>2.441260e+05</td>\n",
       "      <td>244126.000000</td>\n",
       "    </tr>\n",
       "    <tr>\n",
       "      <th>mean</th>\n",
       "      <td>4.627568e+18</td>\n",
       "      <td>1.564914e+09</td>\n",
       "      <td>247.022296</td>\n",
       "    </tr>\n",
       "    <tr>\n",
       "      <th>std</th>\n",
       "      <td>2.642425e+18</td>\n",
       "      <td>1.771343e+05</td>\n",
       "      <td>0.824434</td>\n",
       "    </tr>\n",
       "    <tr>\n",
       "      <th>min</th>\n",
       "      <td>6.888747e+15</td>\n",
       "      <td>1.564030e+09</td>\n",
       "      <td>246.000000</td>\n",
       "    </tr>\n",
       "    <tr>\n",
       "      <th>25%</th>\n",
       "      <td>2.372212e+18</td>\n",
       "      <td>1.564757e+09</td>\n",
       "      <td>246.000000</td>\n",
       "    </tr>\n",
       "    <tr>\n",
       "      <th>50%</th>\n",
       "      <td>4.623192e+18</td>\n",
       "      <td>1.564919e+09</td>\n",
       "      <td>247.000000</td>\n",
       "    </tr>\n",
       "    <tr>\n",
       "      <th>75%</th>\n",
       "      <td>6.932517e+18</td>\n",
       "      <td>1.565075e+09</td>\n",
       "      <td>248.000000</td>\n",
       "    </tr>\n",
       "    <tr>\n",
       "      <th>max</th>\n",
       "      <td>9.222603e+18</td>\n",
       "      <td>1.565213e+09</td>\n",
       "      <td>248.000000</td>\n",
       "    </tr>\n",
       "  </tbody>\n",
       "</table>\n",
       "</div>"
      ],
      "text/plain": [
       "       DeviceIDHash  EventTimestamp          ExpId\n",
       "count  2.441260e+05    2.441260e+05  244126.000000\n",
       "mean   4.627568e+18    1.564914e+09     247.022296\n",
       "std    2.642425e+18    1.771343e+05       0.824434\n",
       "min    6.888747e+15    1.564030e+09     246.000000\n",
       "25%    2.372212e+18    1.564757e+09     246.000000\n",
       "50%    4.623192e+18    1.564919e+09     247.000000\n",
       "75%    6.932517e+18    1.565075e+09     248.000000\n",
       "max    9.222603e+18    1.565213e+09     248.000000"
      ]
     },
     "metadata": {},
     "output_type": "display_data"
    },
    {
     "name": "stdout",
     "output_type": "stream",
     "text": [
      "\n",
      "The amount of duplicates in data is 413\n"
     ]
    }
   ],
   "source": [
    "def data_first_look(data):\n",
    "    print('Main information:')\n",
    "    print()\n",
    "    data.info()\n",
    "    print()\n",
    "    print('The first 10 rows of the data:')\n",
    "    display(data.head())\n",
    "    print()\n",
    "    print('Main characteristics of the data:')\n",
    "    display(data.describe())\n",
    "    print()\n",
    "    print('The amount of duplicates in data is', data.duplicated().sum())\n",
    "    \n",
    "data_first_look(data)    "
   ]
  },
  {
   "cell_type": "code",
   "execution_count": 85,
   "metadata": {
    "scrolled": false
   },
   "outputs": [
    {
     "name": "stdout",
     "output_type": "stream",
     "text": [
      "<class 'pandas.core.frame.DataFrame'>\n",
      "RangeIndex: 244126 entries, 0 to 244125\n",
      "Data columns (total 4 columns):\n",
      " #   Column          Non-Null Count   Dtype \n",
      "---  ------          --------------   ----- \n",
      " 0   EventName       244126 non-null  object\n",
      " 1   DeviceIDHash    244126 non-null  int64 \n",
      " 2   EventTimestamp  244126 non-null  int64 \n",
      " 3   ExpId           244126 non-null  int64 \n",
      "dtypes: int64(3), object(1)\n",
      "memory usage: 7.5+ MB\n"
     ]
    },
    {
     "data": {
      "text/html": [
       "<div>\n",
       "<style scoped>\n",
       "    .dataframe tbody tr th:only-of-type {\n",
       "        vertical-align: middle;\n",
       "    }\n",
       "\n",
       "    .dataframe tbody tr th {\n",
       "        vertical-align: top;\n",
       "    }\n",
       "\n",
       "    .dataframe thead th {\n",
       "        text-align: right;\n",
       "    }\n",
       "</style>\n",
       "<table border=\"1\" class=\"dataframe\">\n",
       "  <thead>\n",
       "    <tr style=\"text-align: right;\">\n",
       "      <th></th>\n",
       "      <th>EventName</th>\n",
       "      <th>DeviceIDHash</th>\n",
       "      <th>EventTimestamp</th>\n",
       "      <th>ExpId</th>\n",
       "    </tr>\n",
       "  </thead>\n",
       "  <tbody>\n",
       "    <tr>\n",
       "      <th>0</th>\n",
       "      <td>MainScreenAppear</td>\n",
       "      <td>4575588528974610257</td>\n",
       "      <td>1564029816</td>\n",
       "      <td>246</td>\n",
       "    </tr>\n",
       "    <tr>\n",
       "      <th>1</th>\n",
       "      <td>MainScreenAppear</td>\n",
       "      <td>7416695313311560658</td>\n",
       "      <td>1564053102</td>\n",
       "      <td>246</td>\n",
       "    </tr>\n",
       "    <tr>\n",
       "      <th>2</th>\n",
       "      <td>PaymentScreenSuccessful</td>\n",
       "      <td>3518123091307005509</td>\n",
       "      <td>1564054127</td>\n",
       "      <td>248</td>\n",
       "    </tr>\n",
       "    <tr>\n",
       "      <th>3</th>\n",
       "      <td>CartScreenAppear</td>\n",
       "      <td>3518123091307005509</td>\n",
       "      <td>1564054127</td>\n",
       "      <td>248</td>\n",
       "    </tr>\n",
       "    <tr>\n",
       "      <th>4</th>\n",
       "      <td>PaymentScreenSuccessful</td>\n",
       "      <td>6217807653094995999</td>\n",
       "      <td>1564055322</td>\n",
       "      <td>248</td>\n",
       "    </tr>\n",
       "  </tbody>\n",
       "</table>\n",
       "</div>"
      ],
      "text/plain": [
       "                 EventName         DeviceIDHash  EventTimestamp  ExpId\n",
       "0         MainScreenAppear  4575588528974610257      1564029816    246\n",
       "1         MainScreenAppear  7416695313311560658      1564053102    246\n",
       "2  PaymentScreenSuccessful  3518123091307005509      1564054127    248\n",
       "3         CartScreenAppear  3518123091307005509      1564054127    248\n",
       "4  PaymentScreenSuccessful  6217807653094995999      1564055322    248"
      ]
     },
     "execution_count": 85,
     "metadata": {},
     "output_type": "execute_result"
    }
   ],
   "source": [
    "data.info()\n",
    "data.head()"
   ]
  },
  {
   "cell_type": "markdown",
   "metadata": {},
   "source": [
    "**We imported the files and looked at the basic information about the dataset. We divided dataset into 4 column: event data, user id, event date, and group id in the a/b test.**"
   ]
  },
  {
   "cell_type": "markdown",
   "metadata": {},
   "source": [
    "### Data preprocessing"
   ]
  },
  {
   "cell_type": "code",
   "execution_count": 86,
   "metadata": {},
   "outputs": [],
   "source": [
    "data.rename({'EventName':'event_name', 'DeviceIDHash':'user_id', 'EventTimestamp':'event_date', 'ExpId':'group_id'}, axis=1, inplace = True)\n",
    "# renamed the columns"
   ]
  },
  {
   "cell_type": "code",
   "execution_count": 87,
   "metadata": {},
   "outputs": [],
   "source": [
    "data['event_date'] = pd.to_datetime(data['event_date'], unit='s') # transfigured date from unix time format\n",
    "data['date_only'] = data['event_date'].dt.date\n",
    "data['date_only'] = pd.to_datetime(data['date_only']) # made a separate column for date\n",
    "data['user_id'] = data['user_id'].astype(object)\n",
    "data['group_id'] = data['group_id'].astype(object) # changed data format"
   ]
  },
  {
   "cell_type": "code",
   "execution_count": 88,
   "metadata": {
    "scrolled": true
   },
   "outputs": [
    {
     "name": "stdout",
     "output_type": "stream",
     "text": [
      "<class 'pandas.core.frame.DataFrame'>\n",
      "RangeIndex: 244126 entries, 0 to 244125\n",
      "Data columns (total 5 columns):\n",
      " #   Column      Non-Null Count   Dtype         \n",
      "---  ------      --------------   -----         \n",
      " 0   event_name  244126 non-null  object        \n",
      " 1   user_id     244126 non-null  object        \n",
      " 2   event_date  244126 non-null  datetime64[ns]\n",
      " 3   group_id    244126 non-null  object        \n",
      " 4   date_only   244126 non-null  datetime64[ns]\n",
      "dtypes: datetime64[ns](2), object(3)\n",
      "memory usage: 9.3+ MB\n"
     ]
    },
    {
     "data": {
      "text/html": [
       "<div>\n",
       "<style scoped>\n",
       "    .dataframe tbody tr th:only-of-type {\n",
       "        vertical-align: middle;\n",
       "    }\n",
       "\n",
       "    .dataframe tbody tr th {\n",
       "        vertical-align: top;\n",
       "    }\n",
       "\n",
       "    .dataframe thead th {\n",
       "        text-align: right;\n",
       "    }\n",
       "</style>\n",
       "<table border=\"1\" class=\"dataframe\">\n",
       "  <thead>\n",
       "    <tr style=\"text-align: right;\">\n",
       "      <th></th>\n",
       "      <th>event_name</th>\n",
       "      <th>user_id</th>\n",
       "      <th>event_date</th>\n",
       "      <th>group_id</th>\n",
       "      <th>date_only</th>\n",
       "    </tr>\n",
       "  </thead>\n",
       "  <tbody>\n",
       "    <tr>\n",
       "      <th>0</th>\n",
       "      <td>MainScreenAppear</td>\n",
       "      <td>4575588528974610257</td>\n",
       "      <td>2019-07-25 04:43:36</td>\n",
       "      <td>246</td>\n",
       "      <td>2019-07-25</td>\n",
       "    </tr>\n",
       "    <tr>\n",
       "      <th>1</th>\n",
       "      <td>MainScreenAppear</td>\n",
       "      <td>7416695313311560658</td>\n",
       "      <td>2019-07-25 11:11:42</td>\n",
       "      <td>246</td>\n",
       "      <td>2019-07-25</td>\n",
       "    </tr>\n",
       "    <tr>\n",
       "      <th>2</th>\n",
       "      <td>PaymentScreenSuccessful</td>\n",
       "      <td>3518123091307005509</td>\n",
       "      <td>2019-07-25 11:28:47</td>\n",
       "      <td>248</td>\n",
       "      <td>2019-07-25</td>\n",
       "    </tr>\n",
       "    <tr>\n",
       "      <th>3</th>\n",
       "      <td>CartScreenAppear</td>\n",
       "      <td>3518123091307005509</td>\n",
       "      <td>2019-07-25 11:28:47</td>\n",
       "      <td>248</td>\n",
       "      <td>2019-07-25</td>\n",
       "    </tr>\n",
       "    <tr>\n",
       "      <th>4</th>\n",
       "      <td>PaymentScreenSuccessful</td>\n",
       "      <td>6217807653094995999</td>\n",
       "      <td>2019-07-25 11:48:42</td>\n",
       "      <td>248</td>\n",
       "      <td>2019-07-25</td>\n",
       "    </tr>\n",
       "  </tbody>\n",
       "</table>\n",
       "</div>"
      ],
      "text/plain": [
       "                event_name              user_id          event_date group_id  \\\n",
       "0         MainScreenAppear  4575588528974610257 2019-07-25 04:43:36      246   \n",
       "1         MainScreenAppear  7416695313311560658 2019-07-25 11:11:42      246   \n",
       "2  PaymentScreenSuccessful  3518123091307005509 2019-07-25 11:28:47      248   \n",
       "3         CartScreenAppear  3518123091307005509 2019-07-25 11:28:47      248   \n",
       "4  PaymentScreenSuccessful  6217807653094995999 2019-07-25 11:48:42      248   \n",
       "\n",
       "   date_only  \n",
       "0 2019-07-25  \n",
       "1 2019-07-25  \n",
       "2 2019-07-25  \n",
       "3 2019-07-25  \n",
       "4 2019-07-25  "
      ]
     },
     "execution_count": 88,
     "metadata": {},
     "output_type": "execute_result"
    }
   ],
   "source": [
    "data.info()\n",
    "data.head() # check if previous steps worked out"
   ]
  },
  {
   "cell_type": "markdown",
   "metadata": {},
   "source": [
    "We renamed the columns, changed the data format, converted the timestamp format to date and time, and created a separate column with the date."
   ]
  },
  {
   "cell_type": "code",
   "execution_count": 89,
   "metadata": {
    "scrolled": true
   },
   "outputs": [
    {
     "data": {
      "text/html": [
       "<div>\n",
       "<style scoped>\n",
       "    .dataframe tbody tr th:only-of-type {\n",
       "        vertical-align: middle;\n",
       "    }\n",
       "\n",
       "    .dataframe tbody tr th {\n",
       "        vertical-align: top;\n",
       "    }\n",
       "\n",
       "    .dataframe thead th {\n",
       "        text-align: right;\n",
       "    }\n",
       "</style>\n",
       "<table border=\"1\" class=\"dataframe\">\n",
       "  <thead>\n",
       "    <tr style=\"text-align: right;\">\n",
       "      <th></th>\n",
       "      <th>event_name</th>\n",
       "      <th>user_id</th>\n",
       "      <th>event_date</th>\n",
       "      <th>group_id</th>\n",
       "      <th>date_only</th>\n",
       "    </tr>\n",
       "  </thead>\n",
       "  <tbody>\n",
       "    <tr>\n",
       "      <th>0</th>\n",
       "      <td>MainScreenAppear</td>\n",
       "      <td>4575588528974610257</td>\n",
       "      <td>2019-07-25 04:43:36</td>\n",
       "      <td>246</td>\n",
       "      <td>2019-07-25</td>\n",
       "    </tr>\n",
       "    <tr>\n",
       "      <th>1</th>\n",
       "      <td>MainScreenAppear</td>\n",
       "      <td>7416695313311560658</td>\n",
       "      <td>2019-07-25 11:11:42</td>\n",
       "      <td>246</td>\n",
       "      <td>2019-07-25</td>\n",
       "    </tr>\n",
       "    <tr>\n",
       "      <th>2</th>\n",
       "      <td>PaymentScreenSuccessful</td>\n",
       "      <td>3518123091307005509</td>\n",
       "      <td>2019-07-25 11:28:47</td>\n",
       "      <td>248</td>\n",
       "      <td>2019-07-25</td>\n",
       "    </tr>\n",
       "    <tr>\n",
       "      <th>3</th>\n",
       "      <td>CartScreenAppear</td>\n",
       "      <td>3518123091307005509</td>\n",
       "      <td>2019-07-25 11:28:47</td>\n",
       "      <td>248</td>\n",
       "      <td>2019-07-25</td>\n",
       "    </tr>\n",
       "    <tr>\n",
       "      <th>4</th>\n",
       "      <td>PaymentScreenSuccessful</td>\n",
       "      <td>6217807653094995999</td>\n",
       "      <td>2019-07-25 11:48:42</td>\n",
       "      <td>248</td>\n",
       "      <td>2019-07-25</td>\n",
       "    </tr>\n",
       "    <tr>\n",
       "      <th>...</th>\n",
       "      <td>...</td>\n",
       "      <td>...</td>\n",
       "      <td>...</td>\n",
       "      <td>...</td>\n",
       "      <td>...</td>\n",
       "    </tr>\n",
       "    <tr>\n",
       "      <th>244121</th>\n",
       "      <td>MainScreenAppear</td>\n",
       "      <td>4599628364049201812</td>\n",
       "      <td>2019-08-07 21:12:25</td>\n",
       "      <td>247</td>\n",
       "      <td>2019-08-07</td>\n",
       "    </tr>\n",
       "    <tr>\n",
       "      <th>244122</th>\n",
       "      <td>MainScreenAppear</td>\n",
       "      <td>5849806612437486590</td>\n",
       "      <td>2019-08-07 21:13:59</td>\n",
       "      <td>246</td>\n",
       "      <td>2019-08-07</td>\n",
       "    </tr>\n",
       "    <tr>\n",
       "      <th>244123</th>\n",
       "      <td>MainScreenAppear</td>\n",
       "      <td>5746969938801999050</td>\n",
       "      <td>2019-08-07 21:14:43</td>\n",
       "      <td>246</td>\n",
       "      <td>2019-08-07</td>\n",
       "    </tr>\n",
       "    <tr>\n",
       "      <th>244124</th>\n",
       "      <td>MainScreenAppear</td>\n",
       "      <td>5746969938801999050</td>\n",
       "      <td>2019-08-07 21:14:58</td>\n",
       "      <td>246</td>\n",
       "      <td>2019-08-07</td>\n",
       "    </tr>\n",
       "    <tr>\n",
       "      <th>244125</th>\n",
       "      <td>OffersScreenAppear</td>\n",
       "      <td>5746969938801999050</td>\n",
       "      <td>2019-08-07 21:15:17</td>\n",
       "      <td>246</td>\n",
       "      <td>2019-08-07</td>\n",
       "    </tr>\n",
       "  </tbody>\n",
       "</table>\n",
       "<p>243713 rows × 5 columns</p>\n",
       "</div>"
      ],
      "text/plain": [
       "                     event_name              user_id          event_date  \\\n",
       "0              MainScreenAppear  4575588528974610257 2019-07-25 04:43:36   \n",
       "1              MainScreenAppear  7416695313311560658 2019-07-25 11:11:42   \n",
       "2       PaymentScreenSuccessful  3518123091307005509 2019-07-25 11:28:47   \n",
       "3              CartScreenAppear  3518123091307005509 2019-07-25 11:28:47   \n",
       "4       PaymentScreenSuccessful  6217807653094995999 2019-07-25 11:48:42   \n",
       "...                         ...                  ...                 ...   \n",
       "244121         MainScreenAppear  4599628364049201812 2019-08-07 21:12:25   \n",
       "244122         MainScreenAppear  5849806612437486590 2019-08-07 21:13:59   \n",
       "244123         MainScreenAppear  5746969938801999050 2019-08-07 21:14:43   \n",
       "244124         MainScreenAppear  5746969938801999050 2019-08-07 21:14:58   \n",
       "244125       OffersScreenAppear  5746969938801999050 2019-08-07 21:15:17   \n",
       "\n",
       "       group_id  date_only  \n",
       "0           246 2019-07-25  \n",
       "1           246 2019-07-25  \n",
       "2           248 2019-07-25  \n",
       "3           248 2019-07-25  \n",
       "4           248 2019-07-25  \n",
       "...         ...        ...  \n",
       "244121      247 2019-08-07  \n",
       "244122      246 2019-08-07  \n",
       "244123      246 2019-08-07  \n",
       "244124      246 2019-08-07  \n",
       "244125      246 2019-08-07  \n",
       "\n",
       "[243713 rows x 5 columns]"
      ]
     },
     "execution_count": 89,
     "metadata": {},
     "output_type": "execute_result"
    }
   ],
   "source": [
    "data.duplicated().sum() # checked for duplicated\n",
    "data.drop_duplicates() # found 413 and deleted them"
   ]
  },
  {
   "cell_type": "code",
   "execution_count": 90,
   "metadata": {},
   "outputs": [
    {
     "data": {
      "text/plain": [
       "MainScreenAppear           119205\n",
       "OffersScreenAppear          46825\n",
       "CartScreenAppear            42731\n",
       "PaymentScreenSuccessful     34313\n",
       "Tutorial                     1052\n",
       "Name: event_name, dtype: int64"
      ]
     },
     "execution_count": 90,
     "metadata": {},
     "output_type": "execute_result"
    }
   ],
   "source": [
    "data['event_name'].value_counts() "
   ]
  },
  {
   "cell_type": "markdown",
   "metadata": {},
   "source": [
    "We looked at unique values in the columns with the group_id and event_id and counted their number. There are no gaps in these columns."
   ]
  },
  {
   "cell_type": "code",
   "execution_count": 91,
   "metadata": {},
   "outputs": [
    {
     "data": {
      "text/plain": [
       "248    85747\n",
       "246    80304\n",
       "247    78075\n",
       "Name: group_id, dtype: int64"
      ]
     },
     "execution_count": 91,
     "metadata": {},
     "output_type": "execute_result"
    }
   ],
   "source": [
    "data['group_id'].value_counts()"
   ]
  },
  {
   "cell_type": "markdown",
   "metadata": {},
   "source": [
    "**Groups are distributed by number not quite evenly, there are 5-7 thousand more users in the experimental group than in the control groups. We will check in the next section just how critical it is.\n",
    "At this point, data preprocessing can be considered complete and we can proceed to examine the data for correctness.**"
   ]
  },
  {
   "cell_type": "markdown",
   "metadata": {},
   "source": [
    "## Examine the data for correctness"
   ]
  },
  {
   "cell_type": "markdown",
   "metadata": {},
   "source": [
    "In this section, we will check whether the provided data is correct and whether we can freely work with it."
   ]
  },
  {
   "cell_type": "code",
   "execution_count": 92,
   "metadata": {},
   "outputs": [
    {
     "data": {
      "text/plain": [
       "(0, 2)"
      ]
     },
     "execution_count": 92,
     "metadata": {},
     "output_type": "execute_result"
    }
   ],
   "source": [
    "data.groupby('user_id', as_index=False)\\\n",
    "    .agg({'group_id':'nunique'})\\\n",
    "    .query(\"group_id>=2\")\\\n",
    "    .shape"
   ]
  },
  {
   "cell_type": "markdown",
   "metadata": {},
   "source": [
    "We checked if there are users who participated in two or all three groups - there are none of these."
   ]
  },
  {
   "cell_type": "code",
   "execution_count": 93,
   "metadata": {
    "scrolled": false
   },
   "outputs": [
    {
     "name": "stdout",
     "output_type": "stream",
     "text": [
      "Total number of events in the log 244126\n",
      "The number of unique users 7551\n",
      "The average number of events per user 32.33\n"
     ]
    }
   ],
   "source": [
    "print('Total number of events in the log', data['event_name'].count())\n",
    "print('The number of unique users', data['user_id'].nunique())\n",
    "print('The average number of events per user','{0:.2f}'.format(data['event_name'].count()/data['user_id'].nunique()))"
   ]
  },
  {
   "cell_type": "code",
   "execution_count": 94,
   "metadata": {
    "scrolled": true
   },
   "outputs": [
    {
     "name": "stdout",
     "output_type": "stream",
     "text": [
      "The minimum date in the log 2019-07-25 00:00:00\n",
      "The maximum date in the log 2019-08-07 00:00:00\n"
     ]
    }
   ],
   "source": [
    "print('The minimum date in the log', data['date_only'].min()) \n",
    "print('The maximum date in the log', data['date_only'].max())"
   ]
  },
  {
   "cell_type": "markdown",
   "metadata": {},
   "source": [
    "We calculated the average number of events per user and checked what period we have data for."
   ]
  },
  {
   "cell_type": "code",
   "execution_count": 95,
   "metadata": {},
   "outputs": [
    {
     "data": {
      "text/html": [
       "<div>\n",
       "<style scoped>\n",
       "    .dataframe tbody tr th:only-of-type {\n",
       "        vertical-align: middle;\n",
       "    }\n",
       "\n",
       "    .dataframe tbody tr th {\n",
       "        vertical-align: top;\n",
       "    }\n",
       "\n",
       "    .dataframe thead th {\n",
       "        text-align: right;\n",
       "    }\n",
       "</style>\n",
       "<table border=\"1\" class=\"dataframe\">\n",
       "  <thead>\n",
       "    <tr style=\"text-align: right;\">\n",
       "      <th></th>\n",
       "      <th>event_name</th>\n",
       "    </tr>\n",
       "    <tr>\n",
       "      <th>date_only</th>\n",
       "      <th></th>\n",
       "    </tr>\n",
       "  </thead>\n",
       "  <tbody>\n",
       "    <tr>\n",
       "      <th>2019-07-25</th>\n",
       "      <td>9</td>\n",
       "    </tr>\n",
       "    <tr>\n",
       "      <th>2019-07-26</th>\n",
       "      <td>31</td>\n",
       "    </tr>\n",
       "    <tr>\n",
       "      <th>2019-07-27</th>\n",
       "      <td>55</td>\n",
       "    </tr>\n",
       "    <tr>\n",
       "      <th>2019-07-28</th>\n",
       "      <td>105</td>\n",
       "    </tr>\n",
       "    <tr>\n",
       "      <th>2019-07-29</th>\n",
       "      <td>184</td>\n",
       "    </tr>\n",
       "    <tr>\n",
       "      <th>2019-07-30</th>\n",
       "      <td>413</td>\n",
       "    </tr>\n",
       "    <tr>\n",
       "      <th>2019-07-31</th>\n",
       "      <td>2031</td>\n",
       "    </tr>\n",
       "    <tr>\n",
       "      <th>2019-08-01</th>\n",
       "      <td>36229</td>\n",
       "    </tr>\n",
       "    <tr>\n",
       "      <th>2019-08-02</th>\n",
       "      <td>35606</td>\n",
       "    </tr>\n",
       "    <tr>\n",
       "      <th>2019-08-03</th>\n",
       "      <td>33351</td>\n",
       "    </tr>\n",
       "    <tr>\n",
       "      <th>2019-08-04</th>\n",
       "      <td>33033</td>\n",
       "    </tr>\n",
       "    <tr>\n",
       "      <th>2019-08-05</th>\n",
       "      <td>36113</td>\n",
       "    </tr>\n",
       "    <tr>\n",
       "      <th>2019-08-06</th>\n",
       "      <td>35822</td>\n",
       "    </tr>\n",
       "    <tr>\n",
       "      <th>2019-08-07</th>\n",
       "      <td>31144</td>\n",
       "    </tr>\n",
       "  </tbody>\n",
       "</table>\n",
       "</div>"
      ],
      "text/plain": [
       "            event_name\n",
       "date_only             \n",
       "2019-07-25           9\n",
       "2019-07-26          31\n",
       "2019-07-27          55\n",
       "2019-07-28         105\n",
       "2019-07-29         184\n",
       "2019-07-30         413\n",
       "2019-07-31        2031\n",
       "2019-08-01       36229\n",
       "2019-08-02       35606\n",
       "2019-08-03       33351\n",
       "2019-08-04       33033\n",
       "2019-08-05       36113\n",
       "2019-08-06       35822\n",
       "2019-08-07       31144"
      ]
     },
     "execution_count": 95,
     "metadata": {},
     "output_type": "execute_result"
    }
   ],
   "source": [
    "data.groupby('date_only').agg({'event_name':'count'})"
   ]
  },
  {
   "cell_type": "code",
   "execution_count": 96,
   "metadata": {
    "scrolled": false
   },
   "outputs": [
    {
     "data": {
      "image/png": "[encoded data removed]",
      "text/plain": [
       "<Figure size 432x288 with 1 Axes>"
      ]
     },
     "metadata": {
      "needs_background": "light"
     },
     "output_type": "display_data"
    }
   ],
   "source": [
    "data['date_only'].hist(grid=False)\n",
    "plt.xticks(rotation=90)\n",
    "plt.title(\"Number of events by dates\")\n",
    "plt.xlabel(\"Dates\")\n",
    "plt.ylabel(\"Number of events\")\n",
    "plt.show()"
   ]
  },
  {
   "cell_type": "code",
   "execution_count": 97,
   "metadata": {
    "scrolled": true
   },
   "outputs": [
    {
     "data": {
      "image/png": "[encoded data removed]",
      "text/plain": [
       "<Figure size 1008x360 with 1 Axes>"
      ]
     },
     "metadata": {
      "needs_background": "light"
     },
     "output_type": "display_data"
    }
   ],
   "source": [
    "data['event_date'].hist(bins=200, figsize=(14, 5)).set_title('Distribution of events in time')\n",
    "plt.xticks(rotation=60);"
   ]
  },
  {
   "cell_type": "code",
   "execution_count": 98,
   "metadata": {},
   "outputs": [],
   "source": [
    "data_date = data.query('date_only == \"2019-07-31\"')"
   ]
  },
  {
   "cell_type": "code",
   "execution_count": 99,
   "metadata": {},
   "outputs": [
    {
     "data": {
      "image/png": "[encoded data removed]",
      "text/plain": [
       "<Figure size 1008x360 with 1 Axes>"
      ]
     },
     "metadata": {
      "needs_background": "light"
     },
     "output_type": "display_data"
    }
   ],
   "source": [
    "data_date['event_date'].hist(bins=200, figsize=(14, 5)).set_title('Distribution of events in time')\n",
    "plt.xticks(rotation=60);"
   ]
  },
  {
   "cell_type": "markdown",
   "metadata": {},
   "source": [
    "We can see that, despite the fact that our minimal data is July 25, a significant amount of events appear only in the evening - more precisely from 21:00 of July 31. Therefore we can analyze the data only for a week.\n",
    "We will remove the \"extra\" data and see how it affects the whole picture."
   ]
  },
  {
   "cell_type": "code",
   "execution_count": 100,
   "metadata": {},
   "outputs": [
    {
     "name": "stdout",
     "output_type": "stream",
     "text": [
      "The total number of events in the cleaned dataset 244117\n",
      "The number of unique users in cleaned dataset 7551\n",
      "The average number of events per user in cleaned dataset 32.33\n"
     ]
    }
   ],
   "source": [
    "data_cleaned = data[(data['event_date'] >= '2019-07-25 21:00:00')] # remove data from previous days\n",
    "print('The total number of events in the cleaned dataset', data_cleaned['event_name'].count()) \n",
    "print('The number of unique users in cleaned dataset', data_cleaned['user_id'].nunique())\n",
    "print('The average number of events per user in cleaned dataset','{0:.2f}'.format(data_cleaned['event_name'].count()/data_cleaned['user_id'].nunique()))"
   ]
  },
  {
   "cell_type": "code",
   "execution_count": 101,
   "metadata": {},
   "outputs": [
    {
     "name": "stdout",
     "output_type": "stream",
     "text": [
      "Percentage of reducted users 0.000 %\n",
      "Percentage of reducted events 0.004 %\n"
     ]
    }
   ],
   "source": [
    "print('Percentage of reducted users', '{0:.3f}'.format(100 - (data_cleaned['user_id'].nunique()/data['user_id'].nunique()) * 100), '%')\n",
    "print('Percentage of reducted events', '{0:.3f}'.format(100 - (data_cleaned['event_name'].count()/data['event_name'].count()) * 100), '%')"
   ]
  },
  {
   "cell_type": "markdown",
   "metadata": {},
   "source": [
    "After cleaning data for days with few or no events, we didn’t lose any users and only 0.4% of events."
   ]
  },
  {
   "cell_type": "code",
   "execution_count": 102,
   "metadata": {
    "scrolled": true
   },
   "outputs": [
    {
     "data": {
      "text/plain": [
       "248    85743\n",
       "246    80300\n",
       "247    78074\n",
       "Name: group_id, dtype: int64"
      ]
     },
     "execution_count": 102,
     "metadata": {},
     "output_type": "execute_result"
    }
   ],
   "source": [
    "data_cleaned['group_id'].value_counts()"
   ]
  },
  {
   "cell_type": "markdown",
   "metadata": {},
   "source": [
    "After cleaning the dataset, we still have events from all three groups in almost the same proportions as before it."
   ]
  },
  {
   "cell_type": "markdown",
   "metadata": {},
   "source": [
    "**During the process of analyzing the data for correctness, we found that, despite the fact that we have data on events for two weeks, 80% of the events occur in the second week. So we cleaned the data, leaving only the events from 07/31/2017 from 21:00 to 08/07/2017. We checked that all three user groups remained in this data and that they remained distributed in the same proportion as they were. In the next section, we will analyze the event’s funnel.**"
   ]
  },
  {
   "cell_type": "markdown",
   "metadata": {},
   "source": [
    "## Analysis of event’s funnel"
   ]
  },
  {
   "cell_type": "markdown",
   "metadata": {},
   "source": [
    "In this section, we will analyze the events funnel. We will consider what events we have in the log, in what order they occur, and at what stage we lose the majority of users."
   ]
  },
  {
   "cell_type": "code",
   "execution_count": 103,
   "metadata": {},
   "outputs": [
    {
     "data": {
      "text/plain": [
       "MainScreenAppear           119201\n",
       "OffersScreenAppear          46824\n",
       "CartScreenAppear            42729\n",
       "PaymentScreenSuccessful     34311\n",
       "Tutorial                     1052\n",
       "Name: event_name, dtype: int64"
      ]
     },
     "execution_count": 103,
     "metadata": {},
     "output_type": "execute_result"
    }
   ],
   "source": [
    "data_cleaned['event_name'].value_counts() # counted the number of events"
   ]
  },
  {
   "cell_type": "markdown",
   "metadata": {},
   "source": [
    "There are five types of events in total in our data set: the user opened the application (119201 times), the user went to the shopping basket (46824), the user was prompted to enter the card’s details (42729), the user made a payment (34311), the user read the instruction (1052).\n",
    "An event with instruction can not be added to the event funnel since it is optional according to numbers."
   ]
  },
  {
   "cell_type": "code",
   "execution_count": 104,
   "metadata": {},
   "outputs": [
    {
     "data": {
      "text/plain": [
       "7551"
      ]
     },
     "execution_count": 104,
     "metadata": {},
     "output_type": "execute_result"
    }
   ],
   "source": [
    "data_cleaned['user_id'].nunique() # counted total amount of users"
   ]
  },
  {
   "cell_type": "code",
   "execution_count": 105,
   "metadata": {
    "scrolled": false
   },
   "outputs": [
    {
     "data": {
      "text/html": [
       "<style type=\"text/css\">\n",
       "</style>\n",
       "<table id=\"T_16e47_\">\n",
       "  <thead>\n",
       "    <tr>\n",
       "      <th class=\"blank level0\" >&nbsp;</th>\n",
       "      <th class=\"col_heading level0 col0\" >user_id</th>\n",
       "    </tr>\n",
       "    <tr>\n",
       "      <th class=\"index_name level0\" >event_name</th>\n",
       "      <th class=\"blank col0\" >&nbsp;</th>\n",
       "    </tr>\n",
       "  </thead>\n",
       "  <tbody>\n",
       "    <tr>\n",
       "      <th id=\"T_16e47_level0_row0\" class=\"row_heading level0 row0\" >MainScreenAppear</th>\n",
       "      <td id=\"T_16e47_row0_col0\" class=\"data row0 col0\" >7439</td>\n",
       "    </tr>\n",
       "    <tr>\n",
       "      <th id=\"T_16e47_level0_row1\" class=\"row_heading level0 row1\" >OffersScreenAppear</th>\n",
       "      <td id=\"T_16e47_row1_col0\" class=\"data row1 col0\" >4613</td>\n",
       "    </tr>\n",
       "    <tr>\n",
       "      <th id=\"T_16e47_level0_row2\" class=\"row_heading level0 row2\" >CartScreenAppear</th>\n",
       "      <td id=\"T_16e47_row2_col0\" class=\"data row2 col0\" >3749</td>\n",
       "    </tr>\n",
       "    <tr>\n",
       "      <th id=\"T_16e47_level0_row3\" class=\"row_heading level0 row3\" >PaymentScreenSuccessful</th>\n",
       "      <td id=\"T_16e47_row3_col0\" class=\"data row3 col0\" >3547</td>\n",
       "    </tr>\n",
       "    <tr>\n",
       "      <th id=\"T_16e47_level0_row4\" class=\"row_heading level0 row4\" >Tutorial</th>\n",
       "      <td id=\"T_16e47_row4_col0\" class=\"data row4 col0\" >847</td>\n",
       "    </tr>\n",
       "  </tbody>\n",
       "</table>\n"
      ],
      "text/plain": [
       "<pandas.io.formats.style.Styler at 0x23485047d90>"
      ]
     },
     "execution_count": 105,
     "metadata": {},
     "output_type": "execute_result"
    }
   ],
   "source": [
    "data_events = data_cleaned.groupby('event_name').agg({'user_id':'nunique',}).sort_values(by='user_id', ascending=False)\n",
    "data_events.style"
   ]
  },
  {
   "cell_type": "markdown",
   "metadata": {},
   "source": [
    "We sorted the events by the number of users who made them. 7439 users opened the application, 4613 users went to the shopping cart, 3749 users entered the card data, 3547 users paid for the purchase, and 847 users watched the instructions."
   ]
  },
  {
   "cell_type": "code",
   "execution_count": 106,
   "metadata": {},
   "outputs": [
    {
     "data": {
      "text/html": [
       "<div>\n",
       "<style scoped>\n",
       "    .dataframe tbody tr th:only-of-type {\n",
       "        vertical-align: middle;\n",
       "    }\n",
       "\n",
       "    .dataframe tbody tr th {\n",
       "        vertical-align: top;\n",
       "    }\n",
       "\n",
       "    .dataframe thead th {\n",
       "        text-align: right;\n",
       "    }\n",
       "</style>\n",
       "<table border=\"1\" class=\"dataframe\">\n",
       "  <thead>\n",
       "    <tr style=\"text-align: right;\">\n",
       "      <th></th>\n",
       "      <th>user_id</th>\n",
       "      <th>share</th>\n",
       "    </tr>\n",
       "    <tr>\n",
       "      <th>event_name</th>\n",
       "      <th></th>\n",
       "      <th></th>\n",
       "    </tr>\n",
       "  </thead>\n",
       "  <tbody>\n",
       "    <tr>\n",
       "      <th>MainScreenAppear</th>\n",
       "      <td>7439</td>\n",
       "      <td>99.0</td>\n",
       "    </tr>\n",
       "    <tr>\n",
       "      <th>OffersScreenAppear</th>\n",
       "      <td>4613</td>\n",
       "      <td>61.0</td>\n",
       "    </tr>\n",
       "    <tr>\n",
       "      <th>CartScreenAppear</th>\n",
       "      <td>3749</td>\n",
       "      <td>50.0</td>\n",
       "    </tr>\n",
       "    <tr>\n",
       "      <th>PaymentScreenSuccessful</th>\n",
       "      <td>3547</td>\n",
       "      <td>47.0</td>\n",
       "    </tr>\n",
       "    <tr>\n",
       "      <th>Tutorial</th>\n",
       "      <td>847</td>\n",
       "      <td>11.0</td>\n",
       "    </tr>\n",
       "  </tbody>\n",
       "</table>\n",
       "</div>"
      ],
      "text/plain": [
       "                         user_id  share\n",
       "event_name                             \n",
       "MainScreenAppear            7439   99.0\n",
       "OffersScreenAppear          4613   61.0\n",
       "CartScreenAppear            3749   50.0\n",
       "PaymentScreenSuccessful     3547   47.0\n",
       "Tutorial                     847   11.0"
      ]
     },
     "execution_count": 106,
     "metadata": {},
     "output_type": "execute_result"
    }
   ],
   "source": [
    "data_events['share'] = ((data_events['user_id'] / data_cleaned['user_id'].nunique()) * 100).round()\n",
    "data_events"
   ]
  },
  {
   "cell_type": "markdown",
   "metadata": {},
   "source": [
    "We calculated the share of users who completed each event. The application was launched by 99% of users, 61% went to a shopping cart, 50% started entering credit card's details, 47% made a payment, and 11% viewed the training."
   ]
  },
  {
   "cell_type": "code",
   "execution_count": 107,
   "metadata": {},
   "outputs": [
    {
     "data": {
      "application/vnd.plotly.v1+json": {
       "config": {
        "plotlyServerURL": "https://plot.ly"
       },
       "data": [
        {
         "type": "funnel",
         "x": [
          7439,
          4613,
          3739,
          3547
         ],
         "y": [
          "Launched the app",
          "Went to a shopping cart",
          "Entered credit card data",
          "Made a purchase"
         ]
        }
       ],
       "layout": {
        "template": {
         "data": {
          "bar": [
           {
            "error_x": {
             "color": "#2a3f5f"
            },
            "error_y": {
             "color": "#2a3f5f"
            },
            "marker": {
             "line": {
              "color": "#E5ECF6",
              "width": 0.5
             },
             "pattern": {
              "fillmode": "overlay",
              "size": 10,
              "solidity": 0.2
             }
            },
            "type": "bar"
           }
          ],
          "barpolar": [
           {
            "marker": {
             "line": {
              "color": "#E5ECF6",
              "width": 0.5
             },
             "pattern": {
              "fillmode": "overlay",
              "size": 10,
              "solidity": 0.2
             }
            },
            "type": "barpolar"
           }
          ],
          "carpet": [
           {
            "aaxis": {
             "endlinecolor": "#2a3f5f",
             "gridcolor": "white",
             "linecolor": "white",
             "minorgridcolor": "white",
             "startlinecolor": "#2a3f5f"
            },
            "baxis": {
             "endlinecolor": "#2a3f5f",
             "gridcolor": "white",
             "linecolor": "white",
             "minorgridcolor": "white",
             "startlinecolor": "#2a3f5f"
            },
            "type": "carpet"
           }
          ],
          "choropleth": [
           {
            "colorbar": {
             "outlinewidth": 0,
             "ticks": ""
            },
            "type": "choropleth"
           }
          ],
          "contour": [
           {
            "colorbar": {
             "outlinewidth": 0,
             "ticks": ""
            },
            "colorscale": [
             [
              0,
              "#0d0887"
             ],
             [
              0.1111111111111111,
              "#46039f"
             ],
             [
              0.2222222222222222,
              "#7201a8"
             ],
             [
              0.3333333333333333,
              "#9c179e"
             ],
             [
              0.4444444444444444,
              "#bd3786"
             ],
             [
              0.5555555555555556,
              "#d8576b"
             ],
             [
              0.6666666666666666,
              "#ed7953"
             ],
             [
              0.7777777777777778,
              "#fb9f3a"
             ],
             [
              0.8888888888888888,
              "#fdca26"
             ],
             [
              1,
              "#f0f921"
             ]
            ],
            "type": "contour"
           }
          ],
          "contourcarpet": [
           {
            "colorbar": {
             "outlinewidth": 0,
             "ticks": ""
            },
            "type": "contourcarpet"
           }
          ],
          "heatmap": [
           {
            "colorbar": {
             "outlinewidth": 0,
             "ticks": ""
            },
            "colorscale": [
             [
              0,
              "#0d0887"
             ],
             [
              0.1111111111111111,
              "#46039f"
             ],
             [
              0.2222222222222222,
              "#7201a8"
             ],
             [
              0.3333333333333333,
              "#9c179e"
             ],
             [
              0.4444444444444444,
              "#bd3786"
             ],
             [
              0.5555555555555556,
              "#d8576b"
             ],
             [
              0.6666666666666666,
              "#ed7953"
             ],
             [
              0.7777777777777778,
              "#fb9f3a"
             ],
             [
              0.8888888888888888,
              "#fdca26"
             ],
             [
              1,
              "#f0f921"
             ]
            ],
            "type": "heatmap"
           }
          ],
          "heatmapgl": [
           {
            "colorbar": {
             "outlinewidth": 0,
             "ticks": ""
            },
            "colorscale": [
             [
              0,
              "#0d0887"
             ],
             [
              0.1111111111111111,
              "#46039f"
             ],
             [
              0.2222222222222222,
              "#7201a8"
             ],
             [
              0.3333333333333333,
              "#9c179e"
             ],
             [
              0.4444444444444444,
              "#bd3786"
             ],
             [
              0.5555555555555556,
              "#d8576b"
             ],
             [
              0.6666666666666666,
              "#ed7953"
             ],
             [
              0.7777777777777778,
              "#fb9f3a"
             ],
             [
              0.8888888888888888,
              "#fdca26"
             ],
             [
              1,
              "#f0f921"
             ]
            ],
            "type": "heatmapgl"
           }
          ],
          "histogram": [
           {
            "marker": {
             "pattern": {
              "fillmode": "overlay",
              "size": 10,
              "solidity": 0.2
             }
            },
            "type": "histogram"
           }
          ],
          "histogram2d": [
           {
            "colorbar": {
             "outlinewidth": 0,
             "ticks": ""
            },
            "colorscale": [
             [
              0,
              "#0d0887"
             ],
             [
              0.1111111111111111,
              "#46039f"
             ],
             [
              0.2222222222222222,
              "#7201a8"
             ],
             [
              0.3333333333333333,
              "#9c179e"
             ],
             [
              0.4444444444444444,
              "#bd3786"
             ],
             [
              0.5555555555555556,
              "#d8576b"
             ],
             [
              0.6666666666666666,
              "#ed7953"
             ],
             [
              0.7777777777777778,
              "#fb9f3a"
             ],
             [
              0.8888888888888888,
              "#fdca26"
             ],
             [
              1,
              "#f0f921"
             ]
            ],
            "type": "histogram2d"
           }
          ],
          "histogram2dcontour": [
           {
            "colorbar": {
             "outlinewidth": 0,
             "ticks": ""
            },
            "colorscale": [
             [
              0,
              "#0d0887"
             ],
             [
              0.1111111111111111,
              "#46039f"
             ],
             [
              0.2222222222222222,
              "#7201a8"
             ],
             [
              0.3333333333333333,
              "#9c179e"
             ],
             [
              0.4444444444444444,
              "#bd3786"
             ],
             [
              0.5555555555555556,
              "#d8576b"
             ],
             [
              0.6666666666666666,
              "#ed7953"
             ],
             [
              0.7777777777777778,
              "#fb9f3a"
             ],
             [
              0.8888888888888888,
              "#fdca26"
             ],
             [
              1,
              "#f0f921"
             ]
            ],
            "type": "histogram2dcontour"
           }
          ],
          "mesh3d": [
           {
            "colorbar": {
             "outlinewidth": 0,
             "ticks": ""
            },
            "type": "mesh3d"
           }
          ],
          "parcoords": [
           {
            "line": {
             "colorbar": {
              "outlinewidth": 0,
              "ticks": ""
             }
            },
            "type": "parcoords"
           }
          ],
          "pie": [
           {
            "automargin": true,
            "type": "pie"
           }
          ],
          "scatter": [
           {
            "marker": {
             "colorbar": {
              "outlinewidth": 0,
              "ticks": ""
             }
            },
            "type": "scatter"
           }
          ],
          "scatter3d": [
           {
            "line": {
             "colorbar": {
              "outlinewidth": 0,
              "ticks": ""
             }
            },
            "marker": {
             "colorbar": {
              "outlinewidth": 0,
              "ticks": ""
             }
            },
            "type": "scatter3d"
           }
          ],
          "scattercarpet": [
           {
            "marker": {
             "colorbar": {
              "outlinewidth": 0,
              "ticks": ""
             }
            },
            "type": "scattercarpet"
           }
          ],
          "scattergeo": [
           {
            "marker": {
             "colorbar": {
              "outlinewidth": 0,
              "ticks": ""
             }
            },
            "type": "scattergeo"
           }
          ],
          "scattergl": [
           {
            "marker": {
             "colorbar": {
              "outlinewidth": 0,
              "ticks": ""
             }
            },
            "type": "scattergl"
           }
          ],
          "scattermapbox": [
           {
            "marker": {
             "colorbar": {
              "outlinewidth": 0,
              "ticks": ""
             }
            },
            "type": "scattermapbox"
           }
          ],
          "scatterpolar": [
           {
            "marker": {
             "colorbar": {
              "outlinewidth": 0,
              "ticks": ""
             }
            },
            "type": "scatterpolar"
           }
          ],
          "scatterpolargl": [
           {
            "marker": {
             "colorbar": {
              "outlinewidth": 0,
              "ticks": ""
             }
            },
            "type": "scatterpolargl"
           }
          ],
          "scatterternary": [
           {
            "marker": {
             "colorbar": {
              "outlinewidth": 0,
              "ticks": ""
             }
            },
            "type": "scatterternary"
           }
          ],
          "surface": [
           {
            "colorbar": {
             "outlinewidth": 0,
             "ticks": ""
            },
            "colorscale": [
             [
              0,
              "#0d0887"
             ],
             [
              0.1111111111111111,
              "#46039f"
             ],
             [
              0.2222222222222222,
              "#7201a8"
             ],
             [
              0.3333333333333333,
              "#9c179e"
             ],
             [
              0.4444444444444444,
              "#bd3786"
             ],
             [
              0.5555555555555556,
              "#d8576b"
             ],
             [
              0.6666666666666666,
              "#ed7953"
             ],
             [
              0.7777777777777778,
              "#fb9f3a"
             ],
             [
              0.8888888888888888,
              "#fdca26"
             ],
             [
              1,
              "#f0f921"
             ]
            ],
            "type": "surface"
           }
          ],
          "table": [
           {
            "cells": {
             "fill": {
              "color": "#EBF0F8"
             },
             "line": {
              "color": "white"
             }
            },
            "header": {
             "fill": {
              "color": "#C8D4E3"
             },
             "line": {
              "color": "white"
             }
            },
            "type": "table"
           }
          ]
         },
         "layout": {
          "annotationdefaults": {
           "arrowcolor": "#2a3f5f",
           "arrowhead": 0,
           "arrowwidth": 1
          },
          "autotypenumbers": "strict",
          "coloraxis": {
           "colorbar": {
            "outlinewidth": 0,
            "ticks": ""
           }
          },
          "colorscale": {
           "diverging": [
            [
             0,
             "#8e0152"
            ],
            [
             0.1,
             "#c51b7d"
            ],
            [
             0.2,
             "#de77ae"
            ],
            [
             0.3,
             "#f1b6da"
            ],
            [
             0.4,
             "#fde0ef"
            ],
            [
             0.5,
             "#f7f7f7"
            ],
            [
             0.6,
             "#e6f5d0"
            ],
            [
             0.7,
             "#b8e186"
            ],
            [
             0.8,
             "#7fbc41"
            ],
            [
             0.9,
             "#4d9221"
            ],
            [
             1,
             "#276419"
            ]
           ],
           "sequential": [
            [
             0,
             "#0d0887"
            ],
            [
             0.1111111111111111,
             "#46039f"
            ],
            [
             0.2222222222222222,
             "#7201a8"
            ],
            [
             0.3333333333333333,
             "#9c179e"
            ],
            [
             0.4444444444444444,
             "#bd3786"
            ],
            [
             0.5555555555555556,
             "#d8576b"
            ],
            [
             0.6666666666666666,
             "#ed7953"
            ],
            [
             0.7777777777777778,
             "#fb9f3a"
            ],
            [
             0.8888888888888888,
             "#fdca26"
            ],
            [
             1,
             "#f0f921"
            ]
           ],
           "sequentialminus": [
            [
             0,
             "#0d0887"
            ],
            [
             0.1111111111111111,
             "#46039f"
            ],
            [
             0.2222222222222222,
             "#7201a8"
            ],
            [
             0.3333333333333333,
             "#9c179e"
            ],
            [
             0.4444444444444444,
             "#bd3786"
            ],
            [
             0.5555555555555556,
             "#d8576b"
            ],
            [
             0.6666666666666666,
             "#ed7953"
            ],
            [
             0.7777777777777778,
             "#fb9f3a"
            ],
            [
             0.8888888888888888,
             "#fdca26"
            ],
            [
             1,
             "#f0f921"
            ]
           ]
          },
          "colorway": [
           "#636efa",
           "#EF553B",
           "#00cc96",
           "#ab63fa",
           "#FFA15A",
           "#19d3f3",
           "#FF6692",
           "#B6E880",
           "#FF97FF",
           "#FECB52"
          ],
          "font": {
           "color": "#2a3f5f"
          },
          "geo": {
           "bgcolor": "white",
           "lakecolor": "white",
           "landcolor": "#E5ECF6",
           "showlakes": true,
           "showland": true,
           "subunitcolor": "white"
          },
          "hoverlabel": {
           "align": "left"
          },
          "hovermode": "closest",
          "mapbox": {
           "style": "light"
          },
          "paper_bgcolor": "white",
          "plot_bgcolor": "#E5ECF6",
          "polar": {
           "angularaxis": {
            "gridcolor": "white",
            "linecolor": "white",
            "ticks": ""
           },
           "bgcolor": "#E5ECF6",
           "radialaxis": {
            "gridcolor": "white",
            "linecolor": "white",
            "ticks": ""
           }
          },
          "scene": {
           "xaxis": {
            "backgroundcolor": "#E5ECF6",
            "gridcolor": "white",
            "gridwidth": 2,
            "linecolor": "white",
            "showbackground": true,
            "ticks": "",
            "zerolinecolor": "white"
           },
           "yaxis": {
            "backgroundcolor": "#E5ECF6",
            "gridcolor": "white",
            "gridwidth": 2,
            "linecolor": "white",
            "showbackground": true,
            "ticks": "",
            "zerolinecolor": "white"
           },
           "zaxis": {
            "backgroundcolor": "#E5ECF6",
            "gridcolor": "white",
            "gridwidth": 2,
            "linecolor": "white",
            "showbackground": true,
            "ticks": "",
            "zerolinecolor": "white"
           }
          },
          "shapedefaults": {
           "line": {
            "color": "#2a3f5f"
           }
          },
          "ternary": {
           "aaxis": {
            "gridcolor": "white",
            "linecolor": "white",
            "ticks": ""
           },
           "baxis": {
            "gridcolor": "white",
            "linecolor": "white",
            "ticks": ""
           },
           "bgcolor": "#E5ECF6",
           "caxis": {
            "gridcolor": "white",
            "linecolor": "white",
            "ticks": ""
           }
          },
          "title": {
           "x": 0.05
          },
          "xaxis": {
           "automargin": true,
           "gridcolor": "white",
           "linecolor": "white",
           "ticks": "",
           "title": {
            "standoff": 15
           },
           "zerolinecolor": "white",
           "zerolinewidth": 2
          },
          "yaxis": {
           "automargin": true,
           "gridcolor": "white",
           "linecolor": "white",
           "ticks": "",
           "title": {
            "standoff": 15
           },
           "zerolinecolor": "white",
           "zerolinewidth": 2
          }
         }
        }
       }
      },
      "text/html": [
       "<div>                            <div id=\"b4ddd86a-f42c-4d89-ae93-941a9f12e189\" class=\"plotly-graph-div\" style=\"height:525px; width:100%;\"></div>            <script type=\"text/javascript\">                require([\"plotly\"], function(Plotly) {                    window.PLOTLYENV=window.PLOTLYENV || {};                                    if (document.getElementById(\"b4ddd86a-f42c-4d89-ae93-941a9f12e189\")) {                    Plotly.newPlot(                        \"b4ddd86a-f42c-4d89-ae93-941a9f12e189\",                        [{\"x\":[7439,4613,3739,3547],\"y\":[\"Launched the app\",\"Went to a shopping cart\",\"Entered credit card data\",\"Made a purchase\"],\"type\":\"funnel\"}],                        {\"template\":{\"data\":{\"bar\":[{\"error_x\":{\"color\":\"#2a3f5f\"},\"error_y\":{\"color\":\"#2a3f5f\"},\"marker\":{\"line\":{\"color\":\"#E5ECF6\",\"width\":0.5},\"pattern\":{\"fillmode\":\"overlay\",\"size\":10,\"solidity\":0.2}},\"type\":\"bar\"}],\"barpolar\":[{\"marker\":{\"line\":{\"color\":\"#E5ECF6\",\"width\":0.5},\"pattern\":{\"fillmode\":\"overlay\",\"size\":10,\"solidity\":0.2}},\"type\":\"barpolar\"}],\"carpet\":[{\"aaxis\":{\"endlinecolor\":\"#2a3f5f\",\"gridcolor\":\"white\",\"linecolor\":\"white\",\"minorgridcolor\":\"white\",\"startlinecolor\":\"#2a3f5f\"},\"baxis\":{\"endlinecolor\":\"#2a3f5f\",\"gridcolor\":\"white\",\"linecolor\":\"white\",\"minorgridcolor\":\"white\",\"startlinecolor\":\"#2a3f5f\"},\"type\":\"carpet\"}],\"choropleth\":[{\"colorbar\":{\"outlinewidth\":0,\"ticks\":\"\"},\"type\":\"choropleth\"}],\"contour\":[{\"colorbar\":{\"outlinewidth\":0,\"ticks\":\"\"},\"colorscale\":[[0.0,\"#0d0887\"],[0.1111111111111111,\"#46039f\"],[0.2222222222222222,\"#7201a8\"],[0.3333333333333333,\"#9c179e\"],[0.4444444444444444,\"#bd3786\"],[0.5555555555555556,\"#d8576b\"],[0.6666666666666666,\"#ed7953\"],[0.7777777777777778,\"#fb9f3a\"],[0.8888888888888888,\"#fdca26\"],[1.0,\"#f0f921\"]],\"type\":\"contour\"}],\"contourcarpet\":[{\"colorbar\":{\"outlinewidth\":0,\"ticks\":\"\"},\"type\":\"contourcarpet\"}],\"heatmap\":[{\"colorbar\":{\"outlinewidth\":0,\"ticks\":\"\"},\"colorscale\":[[0.0,\"#0d0887\"],[0.1111111111111111,\"#46039f\"],[0.2222222222222222,\"#7201a8\"],[0.3333333333333333,\"#9c179e\"],[0.4444444444444444,\"#bd3786\"],[0.5555555555555556,\"#d8576b\"],[0.6666666666666666,\"#ed7953\"],[0.7777777777777778,\"#fb9f3a\"],[0.8888888888888888,\"#fdca26\"],[1.0,\"#f0f921\"]],\"type\":\"heatmap\"}],\"heatmapgl\":[{\"colorbar\":{\"outlinewidth\":0,\"ticks\":\"\"},\"colorscale\":[[0.0,\"#0d0887\"],[0.1111111111111111,\"#46039f\"],[0.2222222222222222,\"#7201a8\"],[0.3333333333333333,\"#9c179e\"],[0.4444444444444444,\"#bd3786\"],[0.5555555555555556,\"#d8576b\"],[0.6666666666666666,\"#ed7953\"],[0.7777777777777778,\"#fb9f3a\"],[0.8888888888888888,\"#fdca26\"],[1.0,\"#f0f921\"]],\"type\":\"heatmapgl\"}],\"histogram\":[{\"marker\":{\"pattern\":{\"fillmode\":\"overlay\",\"size\":10,\"solidity\":0.2}},\"type\":\"histogram\"}],\"histogram2d\":[{\"colorbar\":{\"outlinewidth\":0,\"ticks\":\"\"},\"colorscale\":[[0.0,\"#0d0887\"],[0.1111111111111111,\"#46039f\"],[0.2222222222222222,\"#7201a8\"],[0.3333333333333333,\"#9c179e\"],[0.4444444444444444,\"#bd3786\"],[0.5555555555555556,\"#d8576b\"],[0.6666666666666666,\"#ed7953\"],[0.7777777777777778,\"#fb9f3a\"],[0.8888888888888888,\"#fdca26\"],[1.0,\"#f0f921\"]],\"type\":\"histogram2d\"}],\"histogram2dcontour\":[{\"colorbar\":{\"outlinewidth\":0,\"ticks\":\"\"},\"colorscale\":[[0.0,\"#0d0887\"],[0.1111111111111111,\"#46039f\"],[0.2222222222222222,\"#7201a8\"],[0.3333333333333333,\"#9c179e\"],[0.4444444444444444,\"#bd3786\"],[0.5555555555555556,\"#d8576b\"],[0.6666666666666666,\"#ed7953\"],[0.7777777777777778,\"#fb9f3a\"],[0.8888888888888888,\"#fdca26\"],[1.0,\"#f0f921\"]],\"type\":\"histogram2dcontour\"}],\"mesh3d\":[{\"colorbar\":{\"outlinewidth\":0,\"ticks\":\"\"},\"type\":\"mesh3d\"}],\"parcoords\":[{\"line\":{\"colorbar\":{\"outlinewidth\":0,\"ticks\":\"\"}},\"type\":\"parcoords\"}],\"pie\":[{\"automargin\":true,\"type\":\"pie\"}],\"scatter\":[{\"marker\":{\"colorbar\":{\"outlinewidth\":0,\"ticks\":\"\"}},\"type\":\"scatter\"}],\"scatter3d\":[{\"line\":{\"colorbar\":{\"outlinewidth\":0,\"ticks\":\"\"}},\"marker\":{\"colorbar\":{\"outlinewidth\":0,\"ticks\":\"\"}},\"type\":\"scatter3d\"}],\"scattercarpet\":[{\"marker\":{\"colorbar\":{\"outlinewidth\":0,\"ticks\":\"\"}},\"type\":\"scattercarpet\"}],\"scattergeo\":[{\"marker\":{\"colorbar\":{\"outlinewidth\":0,\"ticks\":\"\"}},\"type\":\"scattergeo\"}],\"scattergl\":[{\"marker\":{\"colorbar\":{\"outlinewidth\":0,\"ticks\":\"\"}},\"type\":\"scattergl\"}],\"scattermapbox\":[{\"marker\":{\"colorbar\":{\"outlinewidth\":0,\"ticks\":\"\"}},\"type\":\"scattermapbox\"}],\"scatterpolar\":[{\"marker\":{\"colorbar\":{\"outlinewidth\":0,\"ticks\":\"\"}},\"type\":\"scatterpolar\"}],\"scatterpolargl\":[{\"marker\":{\"colorbar\":{\"outlinewidth\":0,\"ticks\":\"\"}},\"type\":\"scatterpolargl\"}],\"scatterternary\":[{\"marker\":{\"colorbar\":{\"outlinewidth\":0,\"ticks\":\"\"}},\"type\":\"scatterternary\"}],\"surface\":[{\"colorbar\":{\"outlinewidth\":0,\"ticks\":\"\"},\"colorscale\":[[0.0,\"#0d0887\"],[0.1111111111111111,\"#46039f\"],[0.2222222222222222,\"#7201a8\"],[0.3333333333333333,\"#9c179e\"],[0.4444444444444444,\"#bd3786\"],[0.5555555555555556,\"#d8576b\"],[0.6666666666666666,\"#ed7953\"],[0.7777777777777778,\"#fb9f3a\"],[0.8888888888888888,\"#fdca26\"],[1.0,\"#f0f921\"]],\"type\":\"surface\"}],\"table\":[{\"cells\":{\"fill\":{\"color\":\"#EBF0F8\"},\"line\":{\"color\":\"white\"}},\"header\":{\"fill\":{\"color\":\"#C8D4E3\"},\"line\":{\"color\":\"white\"}},\"type\":\"table\"}]},\"layout\":{\"annotationdefaults\":{\"arrowcolor\":\"#2a3f5f\",\"arrowhead\":0,\"arrowwidth\":1},\"autotypenumbers\":\"strict\",\"coloraxis\":{\"colorbar\":{\"outlinewidth\":0,\"ticks\":\"\"}},\"colorscale\":{\"diverging\":[[0,\"#8e0152\"],[0.1,\"#c51b7d\"],[0.2,\"#de77ae\"],[0.3,\"#f1b6da\"],[0.4,\"#fde0ef\"],[0.5,\"#f7f7f7\"],[0.6,\"#e6f5d0\"],[0.7,\"#b8e186\"],[0.8,\"#7fbc41\"],[0.9,\"#4d9221\"],[1,\"#276419\"]],\"sequential\":[[0.0,\"#0d0887\"],[0.1111111111111111,\"#46039f\"],[0.2222222222222222,\"#7201a8\"],[0.3333333333333333,\"#9c179e\"],[0.4444444444444444,\"#bd3786\"],[0.5555555555555556,\"#d8576b\"],[0.6666666666666666,\"#ed7953\"],[0.7777777777777778,\"#fb9f3a\"],[0.8888888888888888,\"#fdca26\"],[1.0,\"#f0f921\"]],\"sequentialminus\":[[0.0,\"#0d0887\"],[0.1111111111111111,\"#46039f\"],[0.2222222222222222,\"#7201a8\"],[0.3333333333333333,\"#9c179e\"],[0.4444444444444444,\"#bd3786\"],[0.5555555555555556,\"#d8576b\"],[0.6666666666666666,\"#ed7953\"],[0.7777777777777778,\"#fb9f3a\"],[0.8888888888888888,\"#fdca26\"],[1.0,\"#f0f921\"]]},\"colorway\":[\"#636efa\",\"#EF553B\",\"#00cc96\",\"#ab63fa\",\"#FFA15A\",\"#19d3f3\",\"#FF6692\",\"#B6E880\",\"#FF97FF\",\"#FECB52\"],\"font\":{\"color\":\"#2a3f5f\"},\"geo\":{\"bgcolor\":\"white\",\"lakecolor\":\"white\",\"landcolor\":\"#E5ECF6\",\"showlakes\":true,\"showland\":true,\"subunitcolor\":\"white\"},\"hoverlabel\":{\"align\":\"left\"},\"hovermode\":\"closest\",\"mapbox\":{\"style\":\"light\"},\"paper_bgcolor\":\"white\",\"plot_bgcolor\":\"#E5ECF6\",\"polar\":{\"angularaxis\":{\"gridcolor\":\"white\",\"linecolor\":\"white\",\"ticks\":\"\"},\"bgcolor\":\"#E5ECF6\",\"radialaxis\":{\"gridcolor\":\"white\",\"linecolor\":\"white\",\"ticks\":\"\"}},\"scene\":{\"xaxis\":{\"backgroundcolor\":\"#E5ECF6\",\"gridcolor\":\"white\",\"gridwidth\":2,\"linecolor\":\"white\",\"showbackground\":true,\"ticks\":\"\",\"zerolinecolor\":\"white\"},\"yaxis\":{\"backgroundcolor\":\"#E5ECF6\",\"gridcolor\":\"white\",\"gridwidth\":2,\"linecolor\":\"white\",\"showbackground\":true,\"ticks\":\"\",\"zerolinecolor\":\"white\"},\"zaxis\":{\"backgroundcolor\":\"#E5ECF6\",\"gridcolor\":\"white\",\"gridwidth\":2,\"linecolor\":\"white\",\"showbackground\":true,\"ticks\":\"\",\"zerolinecolor\":\"white\"}},\"shapedefaults\":{\"line\":{\"color\":\"#2a3f5f\"}},\"ternary\":{\"aaxis\":{\"gridcolor\":\"white\",\"linecolor\":\"white\",\"ticks\":\"\"},\"baxis\":{\"gridcolor\":\"white\",\"linecolor\":\"white\",\"ticks\":\"\"},\"bgcolor\":\"#E5ECF6\",\"caxis\":{\"gridcolor\":\"white\",\"linecolor\":\"white\",\"ticks\":\"\"}},\"title\":{\"x\":0.05},\"xaxis\":{\"automargin\":true,\"gridcolor\":\"white\",\"linecolor\":\"white\",\"ticks\":\"\",\"title\":{\"standoff\":15},\"zerolinecolor\":\"white\",\"zerolinewidth\":2},\"yaxis\":{\"automargin\":true,\"gridcolor\":\"white\",\"linecolor\":\"white\",\"ticks\":\"\",\"title\":{\"standoff\":15},\"zerolinecolor\":\"white\",\"zerolinewidth\":2}}}},                        {\"responsive\": true}                    ).then(function(){\n",
       "                            \n",
       "var gd = document.getElementById('b4ddd86a-f42c-4d89-ae93-941a9f12e189');\n",
       "var x = new MutationObserver(function (mutations, observer) {{\n",
       "        var display = window.getComputedStyle(gd).display;\n",
       "        if (!display || display === 'none') {{\n",
       "            console.log([gd, 'removed!']);\n",
       "            Plotly.purge(gd);\n",
       "            observer.disconnect();\n",
       "        }}\n",
       "}});\n",
       "\n",
       "// Listen for the removal of the full notebook cells\n",
       "var notebookContainer = gd.closest('#notebook-container');\n",
       "if (notebookContainer) {{\n",
       "    x.observe(notebookContainer, {childList: true});\n",
       "}}\n",
       "\n",
       "// Listen for the clearing of the current output cell\n",
       "var outputEl = gd.closest('.output');\n",
       "if (outputEl) {{\n",
       "    x.observe(outputEl, {childList: true});\n",
       "}}\n",
       "\n",
       "                        })                };                });            </script>        </div>"
      ]
     },
     "metadata": {},
     "output_type": "display_data"
    }
   ],
   "source": [
    "fig = go.Figure(\n",
    "    go.Funnel(\n",
    "        y=[\n",
    "            'Launched the app',\n",
    "            'Went to a shopping cart',\n",
    "            'Entered credit card data',\n",
    "            'Made a purchase',\n",
    "        ],\n",
    "        x=[7439, 4613, 3739, 3547],\n",
    "    )\n",
    ")\n",
    "fig.show() "
   ]
  },
  {
   "cell_type": "markdown",
   "metadata": {},
   "source": [
    "**As we can see on the graph, we lost most of the users during the transition from launching the application to the shopping cart. Only 62% of users move between these steps. At further steps, the transitions are less noticeable: 81.1% of users go from the payment window to entering card data, and 94.9% of users go from entering card data to the successful payment window.\n",
    "In total, 47.7% of users make it from launching the app to successful payment.**"
   ]
  },
  {
   "cell_type": "markdown",
   "metadata": {},
   "source": [
    "## A/A/B test analysis"
   ]
  },
  {
   "cell_type": "markdown",
   "metadata": {},
   "source": [
    "In this part of the project, we will analyze the conducted A/A/B testing. We will consider the correctness of the division’s users between groups, evaluate the results of the A / A test, and check the level of statistical significance of differences between the control and experimental groups."
   ]
  },
  {
   "cell_type": "code",
   "execution_count": 108,
   "metadata": {},
   "outputs": [
    {
     "name": "stdout",
     "output_type": "stream",
     "text": [
      "<class 'pandas.core.frame.DataFrame'>\n",
      "Int64Index: 244117 entries, 9 to 244125\n",
      "Data columns (total 5 columns):\n",
      " #   Column      Non-Null Count   Dtype         \n",
      "---  ------      --------------   -----         \n",
      " 0   event_name  244117 non-null  object        \n",
      " 1   user_id     244117 non-null  object        \n",
      " 2   event_date  244117 non-null  datetime64[ns]\n",
      " 3   group_id    244117 non-null  object        \n",
      " 4   date_only   244117 non-null  datetime64[ns]\n",
      "dtypes: datetime64[ns](2), object(3)\n",
      "memory usage: 11.2+ MB\n"
     ]
    }
   ],
   "source": [
    "data_cleaned.info()"
   ]
  },
  {
   "cell_type": "code",
   "execution_count": 109,
   "metadata": {
    "scrolled": true
   },
   "outputs": [
    {
     "data": {
      "text/html": [
       "<div>\n",
       "<style scoped>\n",
       "    .dataframe tbody tr th:only-of-type {\n",
       "        vertical-align: middle;\n",
       "    }\n",
       "\n",
       "    .dataframe tbody tr th {\n",
       "        vertical-align: top;\n",
       "    }\n",
       "\n",
       "    .dataframe thead th {\n",
       "        text-align: right;\n",
       "    }\n",
       "</style>\n",
       "<table border=\"1\" class=\"dataframe\">\n",
       "  <thead>\n",
       "    <tr style=\"text-align: right;\">\n",
       "      <th></th>\n",
       "      <th>user_id</th>\n",
       "    </tr>\n",
       "    <tr>\n",
       "      <th>group_id</th>\n",
       "      <th></th>\n",
       "    </tr>\n",
       "  </thead>\n",
       "  <tbody>\n",
       "    <tr>\n",
       "      <th>246</th>\n",
       "      <td>2489</td>\n",
       "    </tr>\n",
       "    <tr>\n",
       "      <th>247</th>\n",
       "      <td>2520</td>\n",
       "    </tr>\n",
       "    <tr>\n",
       "      <th>248</th>\n",
       "      <td>2542</td>\n",
       "    </tr>\n",
       "  </tbody>\n",
       "</table>\n",
       "</div>"
      ],
      "text/plain": [
       "          user_id\n",
       "group_id         \n",
       "246          2489\n",
       "247          2520\n",
       "248          2542"
      ]
     },
     "execution_count": 109,
     "metadata": {},
     "output_type": "execute_result"
    }
   ],
   "source": [
    "data_cleaned.groupby('group_id').agg({'user_id': 'nunique'}) # grouped by the number of users in each group"
   ]
  },
  {
   "cell_type": "markdown",
   "metadata": {},
   "source": [
    "We checked how many users are in each group. Users are divided almost evenly, the difference does not exceed 31 users, which does not exceed 0.1% of all users."
   ]
  },
  {
   "cell_type": "code",
   "execution_count": 110,
   "metadata": {},
   "outputs": [],
   "source": [
    "data_group_A0 = data_cleaned.query('group_id == 246') # we split the dataset into three separate groups in order to compare them"
   ]
  },
  {
   "cell_type": "code",
   "execution_count": 111,
   "metadata": {},
   "outputs": [],
   "source": [
    "data_group_A1 = data_cleaned.query('group_id == 247')"
   ]
  },
  {
   "cell_type": "code",
   "execution_count": 112,
   "metadata": {},
   "outputs": [],
   "source": [
    "data_group_B = data_cleaned.query('group_id == 248')"
   ]
  },
  {
   "cell_type": "markdown",
   "metadata": {},
   "source": [
    "Firstly we will test the hypothesis of equal shares for the control groups. We will write a function to check if the difference between the events in the control groups is statistically significant.\n",
    "Our null hypothesis is that the change in the font of the app did not affect the user’s behavior. \n",
    "We will consider whether the change in the user’s behavior is significant enough for rejecting the null hypothesis.\n",
    "Our alternative hypothesis is that the change of the fond affects user behavior.\n"
   ]
  },
  {
   "cell_type": "code",
   "execution_count": 113,
   "metadata": {
    "scrolled": false
   },
   "outputs": [
    {
     "data": {
      "text/html": [
       "<style type=\"text/css\">\n",
       "</style>\n",
       "<table id=\"T_aab99_\">\n",
       "  <thead>\n",
       "    <tr>\n",
       "      <th class=\"blank level0\" >&nbsp;</th>\n",
       "      <th class=\"col_heading level0 col0\" >user_id</th>\n",
       "      <th class=\"col_heading level0 col1\" >share</th>\n",
       "    </tr>\n",
       "    <tr>\n",
       "      <th class=\"index_name level0\" >event_name</th>\n",
       "      <th class=\"blank col0\" >&nbsp;</th>\n",
       "      <th class=\"blank col1\" >&nbsp;</th>\n",
       "    </tr>\n",
       "  </thead>\n",
       "  <tbody>\n",
       "    <tr>\n",
       "      <th id=\"T_aab99_level0_row0\" class=\"row_heading level0 row0\" >MainScreenAppear</th>\n",
       "      <td id=\"T_aab99_row0_col0\" class=\"data row0 col0\" >2456</td>\n",
       "      <td id=\"T_aab99_row0_col1\" class=\"data row0 col1\" >99.000000</td>\n",
       "    </tr>\n",
       "    <tr>\n",
       "      <th id=\"T_aab99_level0_row1\" class=\"row_heading level0 row1\" >OffersScreenAppear</th>\n",
       "      <td id=\"T_aab99_row1_col0\" class=\"data row1 col0\" >1545</td>\n",
       "      <td id=\"T_aab99_row1_col1\" class=\"data row1 col1\" >62.000000</td>\n",
       "    </tr>\n",
       "    <tr>\n",
       "      <th id=\"T_aab99_level0_row2\" class=\"row_heading level0 row2\" >CartScreenAppear</th>\n",
       "      <td id=\"T_aab99_row2_col0\" class=\"data row2 col0\" >1270</td>\n",
       "      <td id=\"T_aab99_row2_col1\" class=\"data row2 col1\" >51.000000</td>\n",
       "    </tr>\n",
       "    <tr>\n",
       "      <th id=\"T_aab99_level0_row3\" class=\"row_heading level0 row3\" >PaymentScreenSuccessful</th>\n",
       "      <td id=\"T_aab99_row3_col0\" class=\"data row3 col0\" >1202</td>\n",
       "      <td id=\"T_aab99_row3_col1\" class=\"data row3 col1\" >48.000000</td>\n",
       "    </tr>\n",
       "    <tr>\n",
       "      <th id=\"T_aab99_level0_row4\" class=\"row_heading level0 row4\" >Tutorial</th>\n",
       "      <td id=\"T_aab99_row4_col0\" class=\"data row4 col0\" >279</td>\n",
       "      <td id=\"T_aab99_row4_col1\" class=\"data row4 col1\" >11.000000</td>\n",
       "    </tr>\n",
       "  </tbody>\n",
       "</table>\n"
      ],
      "text/plain": [
       "<pandas.io.formats.style.Styler at 0x2348415d970>"
      ]
     },
     "execution_count": 113,
     "metadata": {},
     "output_type": "execute_result"
    }
   ],
   "source": [
    "data_events_A0 = data_group_A0.groupby('event_name').agg({'user_id':'nunique',}).sort_values(by='user_id', ascending=False)\n",
    "data_events_A0['share'] = (data_events_A0['user_id'] / data_group_A0['user_id'].nunique()*100).round()\n",
    "data_events_A0.style # we counted the number of users in each group"
   ]
  },
  {
   "cell_type": "code",
   "execution_count": 114,
   "metadata": {
    "scrolled": true
   },
   "outputs": [
    {
     "data": {
      "text/html": [
       "<style type=\"text/css\">\n",
       "</style>\n",
       "<table id=\"T_a3f63_\">\n",
       "  <thead>\n",
       "    <tr>\n",
       "      <th class=\"blank level0\" >&nbsp;</th>\n",
       "      <th class=\"col_heading level0 col0\" >user_id</th>\n",
       "      <th class=\"col_heading level0 col1\" >share</th>\n",
       "    </tr>\n",
       "    <tr>\n",
       "      <th class=\"index_name level0\" >event_name</th>\n",
       "      <th class=\"blank col0\" >&nbsp;</th>\n",
       "      <th class=\"blank col1\" >&nbsp;</th>\n",
       "    </tr>\n",
       "  </thead>\n",
       "  <tbody>\n",
       "    <tr>\n",
       "      <th id=\"T_a3f63_level0_row0\" class=\"row_heading level0 row0\" >MainScreenAppear</th>\n",
       "      <td id=\"T_a3f63_row0_col0\" class=\"data row0 col0\" >2482</td>\n",
       "      <td id=\"T_a3f63_row0_col1\" class=\"data row0 col1\" >98.000000</td>\n",
       "    </tr>\n",
       "    <tr>\n",
       "      <th id=\"T_a3f63_level0_row1\" class=\"row_heading level0 row1\" >OffersScreenAppear</th>\n",
       "      <td id=\"T_a3f63_row1_col0\" class=\"data row1 col0\" >1530</td>\n",
       "      <td id=\"T_a3f63_row1_col1\" class=\"data row1 col1\" >61.000000</td>\n",
       "    </tr>\n",
       "    <tr>\n",
       "      <th id=\"T_a3f63_level0_row2\" class=\"row_heading level0 row2\" >CartScreenAppear</th>\n",
       "      <td id=\"T_a3f63_row2_col0\" class=\"data row2 col0\" >1240</td>\n",
       "      <td id=\"T_a3f63_row2_col1\" class=\"data row2 col1\" >49.000000</td>\n",
       "    </tr>\n",
       "    <tr>\n",
       "      <th id=\"T_a3f63_level0_row3\" class=\"row_heading level0 row3\" >PaymentScreenSuccessful</th>\n",
       "      <td id=\"T_a3f63_row3_col0\" class=\"data row3 col0\" >1160</td>\n",
       "      <td id=\"T_a3f63_row3_col1\" class=\"data row3 col1\" >46.000000</td>\n",
       "    </tr>\n",
       "    <tr>\n",
       "      <th id=\"T_a3f63_level0_row4\" class=\"row_heading level0 row4\" >Tutorial</th>\n",
       "      <td id=\"T_a3f63_row4_col0\" class=\"data row4 col0\" >286</td>\n",
       "      <td id=\"T_a3f63_row4_col1\" class=\"data row4 col1\" >11.000000</td>\n",
       "    </tr>\n",
       "  </tbody>\n",
       "</table>\n"
      ],
      "text/plain": [
       "<pandas.io.formats.style.Styler at 0x234878e1b20>"
      ]
     },
     "execution_count": 114,
     "metadata": {},
     "output_type": "execute_result"
    }
   ],
   "source": [
    "data_events_A1 = data_group_A1.groupby('event_name').agg({'user_id':'nunique',}).sort_values(by='user_id', ascending=False)\n",
    "data_events_A1['share'] = (data_events_A1['user_id'] / data_group_A1['user_id'].nunique()*100).round()\n",
    "data_events_A1.style"
   ]
  },
  {
   "cell_type": "markdown",
   "metadata": {},
   "source": [
    "We counted the number of users who completed each action in both groups."
   ]
  },
  {
   "cell_type": "code",
   "execution_count": 115,
   "metadata": {
    "scrolled": false
   },
   "outputs": [
    {
     "name": "stdout",
     "output_type": "stream",
     "text": [
      "2489 2520\n"
     ]
    }
   ],
   "source": [
    "print(data_group_A0['user_id'].nunique(), data_group_A1['user_id'].nunique()) \n",
    "# check the amount of unique users in each group"
   ]
  },
  {
   "cell_type": "markdown",
   "metadata": {},
   "source": [
    "Before testing the hypothesis, we should determine the level of significance. Since we have to do three comparisons, the probability of getting a false-positive result is 14%. Therefore, we will use the Bonferroni correction to reduce the probability of a Type II error."
   ]
  },
  {
   "cell_type": "code",
   "execution_count": 116,
   "metadata": {
    "scrolled": true
   },
   "outputs": [
    {
     "name": "stdout",
     "output_type": "stream",
     "text": [
      "p-value:  0.586\n",
      "It is not possible to reject the null hypothesis, there is no reason to find the groups different.\n",
      "None\n",
      "p-value:  0.323\n",
      "It is not possible to reject the null hypothesis, there is no reason to find the groups different.\n",
      "None\n",
      "p-value:  0.198\n",
      "It is not possible to reject the null hypothesis, there is no reason to find the groups different.\n",
      "None\n",
      "p-value:  0.109\n",
      "It is not possible to reject the null hypothesis, there is no reason to find the groups different.\n",
      "None\n",
      "p-value:  0.876\n",
      "It is not possible to reject the null hypothesis, there is no reason to find the groups different.\n",
      "None\n"
     ]
    }
   ],
   "source": [
    "def stat_difference(data_1, data_2, event): # function for counting the statistical significance with Bonferroni correction\n",
    "    alpha = 0.05 \n",
    "    bonferroni_alpha = alpha / 3\n",
    "    leads_0 = data_1['user_id'].nunique()\n",
    "    leads_1 = data_2['user_id'].nunique()\n",
    "    event == event\n",
    "    purchases_0 = data_1.query('event_name == @event')['user_id'].nunique()\n",
    "    purchases_1 = data_2.query('event_name == @event')['user_id'].nunique()\n",
    "    p1 = purchases_0/leads_0\n",
    "    p2 = purchases_1/leads_1\n",
    "    p_combined = (purchases_0 + purchases_1) / (leads_0 + leads_1)\n",
    "    difference = p1 - p2\n",
    "    z_value = difference / mth.sqrt(p_combined * (1 - p_combined) * (1/leads_0 + 1/leads_1))\n",
    "    distr = st.norm(0, 1)\n",
    "    p_value = (1 - distr.cdf(abs(z_value))) * 2\n",
    "    print('p-value: ', '{0:.3f}'.format(p_value))\n",
    "    if p_value < bonferroni_alpha:\n",
    "        print('We are rejecting the null hypothesis: there is a significant difference between the groups.')\n",
    "    else:\n",
    "        print('It is not possible to reject the null hypothesis, there is no reason to find the groups different.'\n",
    "    )\n",
    "print(stat_difference(data_group_A0, data_group_A1, \"MainScreenAppear\"))\n",
    "print(stat_difference(data_group_A0, data_group_A1, \"OffersScreenAppear\"))\n",
    "print(stat_difference(data_group_A0, data_group_A1, \"CartScreenAppear\"))\n",
    "print(stat_difference(data_group_A0, data_group_A1, \"PaymentScreenSuccessful\"))\n",
    "print(stat_difference(data_group_A0, data_group_A1, \"Tutorial\"))"
   ]
  },
  {
   "cell_type": "markdown",
   "metadata": {},
   "source": [
    "Based on the comparison made between the two groups, we can see that in the control groups there is no difference in the number of users who committed events.\n",
    "We can conclude that the division into groups was made correctly.\n",
    "In the next part, we will compare the first control group with the experimental group.\n"
   ]
  },
  {
   "cell_type": "code",
   "execution_count": 117,
   "metadata": {
    "scrolled": false
   },
   "outputs": [
    {
     "name": "stdout",
     "output_type": "stream",
     "text": [
      "p-value:  0.398\n",
      "It is not possible to reject the null hypothesis, there is no reason to find the groups different.\n",
      "None\n",
      "p-value:  0.253\n",
      "It is not possible to reject the null hypothesis, there is no reason to find the groups different.\n",
      "None\n",
      "p-value:  0.105\n",
      "It is not possible to reject the null hypothesis, there is no reason to find the groups different.\n",
      "None\n",
      "p-value:  0.234\n",
      "It is not possible to reject the null hypothesis, there is no reason to find the groups different.\n",
      "None\n",
      "p-value:  0.896\n",
      "It is not possible to reject the null hypothesis, there is no reason to find the groups different.\n",
      "None\n"
     ]
    }
   ],
   "source": [
    "print(stat_difference(data_group_A0, data_group_B, \"MainScreenAppear\"))\n",
    "print(stat_difference(data_group_A0, data_group_B, \"OffersScreenAppear\"))\n",
    "print(stat_difference(data_group_A0, data_group_B, \"CartScreenAppear\"))\n",
    "print(stat_difference(data_group_A0, data_group_B, \"PaymentScreenSuccessful\"))\n",
    "print(stat_difference(data_group_A0, data_group_B, \"Tutorial\"))"
   ]
  },
  {
   "cell_type": "markdown",
   "metadata": {},
   "source": [
    "There are also no differences between the first control group and the experimental group."
   ]
  },
  {
   "cell_type": "code",
   "execution_count": 118,
   "metadata": {
    "scrolled": true
   },
   "outputs": [
    {
     "name": "stdout",
     "output_type": "stream",
     "text": [
      "p-value:  0.763\n",
      "It is not possible to reject the null hypothesis, there is no reason to find the groups different.\n",
      "None\n",
      "p-value:  0.878\n",
      "It is not possible to reject the null hypothesis, there is no reason to find the groups different.\n",
      "None\n",
      "p-value:  0.741\n",
      "It is not possible to reject the null hypothesis, there is no reason to find the groups different.\n",
      "None\n",
      "p-value:  0.676\n",
      "It is not possible to reject the null hypothesis, there is no reason to find the groups different.\n",
      "None\n",
      "p-value:  0.773\n",
      "It is not possible to reject the null hypothesis, there is no reason to find the groups different.\n",
      "None\n"
     ]
    }
   ],
   "source": [
    "print(stat_difference(data_group_A1, data_group_B, \"MainScreenAppear\"))\n",
    "print(stat_difference(data_group_A1, data_group_B, \"OffersScreenAppear\"))\n",
    "print(stat_difference(data_group_A1, data_group_B, \"CartScreenAppear\"))\n",
    "print(stat_difference(data_group_A1, data_group_B, \"PaymentScreenSuccessful\"))\n",
    "print(stat_difference(data_group_A1, data_group_B, \"Tutorial\"))"
   ]
  },
  {
   "cell_type": "markdown",
   "metadata": {},
   "source": [
    "There are also no differences between the second control group and the experimental group.\n",
    "Out of interest, we check what happens if if we don’t apply the Bonferroni correction:"
   ]
  },
  {
   "cell_type": "code",
   "execution_count": 119,
   "metadata": {},
   "outputs": [],
   "source": [
    "def stat_difference_no_bonferroni(data_1, data_2, event): # function for counting the statistical significance without Bonferroni correction\n",
    "    alpha = 0.05 \n",
    "    leads_0 = data_1['user_id'].nunique()\n",
    "    leads_1 = data_2['user_id'].nunique()\n",
    "    event == event\n",
    "    purchases_0 = data_1.query('event_name == @event')['user_id'].nunique()\n",
    "    purchases_1 = data_2.query('event_name == @event')['user_id'].nunique()\n",
    "    p1 = purchases_0/leads_0\n",
    "    p2 = purchases_1/leads_1\n",
    "    p_combined = (purchases_0 + purchases_1) / (leads_0 + leads_1)\n",
    "    difference = p1 - p2\n",
    "    z_value = difference / mth.sqrt(p_combined * (1 - p_combined) * (1/leads_0 + 1/leads_1))\n",
    "    distr = st.norm(0, 1)\n",
    "    p_value = (1 - distr.cdf(abs(z_value))) * 2\n",
    "    print('p-value:', '{0:.3f}'.format(p_value))\n",
    "    if p_value < alpha:\n",
    "        print('We are rejecting the null hypothesis: there is a significant difference between the groups.')\n",
    "    else:\n",
    "        print('It is not possible to reject the null hypothesis, there is no reason to find the groups different.'\n",
    "    )"
   ]
  },
  {
   "cell_type": "code",
   "execution_count": 120,
   "metadata": {},
   "outputs": [
    {
     "name": "stdout",
     "output_type": "stream",
     "text": [
      "p-value: 0.586\n",
      "It is not possible to reject the null hypothesis, there is no reason to find the groups different.\n",
      "None\n",
      "p-value: 0.323\n",
      "It is not possible to reject the null hypothesis, there is no reason to find the groups different.\n",
      "None\n",
      "p-value: 0.198\n",
      "It is not possible to reject the null hypothesis, there is no reason to find the groups different.\n",
      "None\n",
      "p-value: 0.109\n",
      "It is not possible to reject the null hypothesis, there is no reason to find the groups different.\n",
      "None\n",
      "p-value: 0.876\n",
      "It is not possible to reject the null hypothesis, there is no reason to find the groups different.\n",
      "None\n"
     ]
    }
   ],
   "source": [
    "print(stat_difference_no_bonferroni(data_group_A0, data_group_A1, \"MainScreenAppear\"))\n",
    "print(stat_difference_no_bonferroni(data_group_A0, data_group_A1, \"OffersScreenAppear\"))\n",
    "print(stat_difference_no_bonferroni(data_group_A0, data_group_A1, \"CartScreenAppear\"))\n",
    "print(stat_difference_no_bonferroni(data_group_A0, data_group_A1, \"PaymentScreenSuccessful\"))\n",
    "print(stat_difference_no_bonferroni(data_group_A0, data_group_A1, \"Tutorial\"))"
   ]
  },
  {
   "cell_type": "code",
   "execution_count": 121,
   "metadata": {},
   "outputs": [
    {
     "name": "stdout",
     "output_type": "stream",
     "text": [
      "p-value: 0.398\n",
      "It is not possible to reject the null hypothesis, there is no reason to find the groups different.\n",
      "None\n",
      "p-value: 0.253\n",
      "It is not possible to reject the null hypothesis, there is no reason to find the groups different.\n",
      "None\n",
      "p-value: 0.105\n",
      "It is not possible to reject the null hypothesis, there is no reason to find the groups different.\n",
      "None\n",
      "p-value: 0.234\n",
      "It is not possible to reject the null hypothesis, there is no reason to find the groups different.\n",
      "None\n",
      "p-value: 0.896\n",
      "It is not possible to reject the null hypothesis, there is no reason to find the groups different.\n",
      "None\n"
     ]
    }
   ],
   "source": [
    "print(stat_difference_no_bonferroni(data_group_A0, data_group_B, \"MainScreenAppear\"))\n",
    "print(stat_difference_no_bonferroni(data_group_A0, data_group_B, \"OffersScreenAppear\"))\n",
    "print(stat_difference_no_bonferroni(data_group_A0, data_group_B, \"CartScreenAppear\"))\n",
    "print(stat_difference_no_bonferroni(data_group_A0, data_group_B, \"PaymentScreenSuccessful\"))\n",
    "print(stat_difference_no_bonferroni(data_group_A0, data_group_B, \"Tutorial\"))"
   ]
  },
  {
   "cell_type": "code",
   "execution_count": 122,
   "metadata": {},
   "outputs": [
    {
     "name": "stdout",
     "output_type": "stream",
     "text": [
      "p-value: 0.763\n",
      "It is not possible to reject the null hypothesis, there is no reason to find the groups different.\n",
      "None\n",
      "p-value: 0.878\n",
      "It is not possible to reject the null hypothesis, there is no reason to find the groups different.\n",
      "None\n",
      "p-value: 0.741\n",
      "It is not possible to reject the null hypothesis, there is no reason to find the groups different.\n",
      "None\n",
      "p-value: 0.676\n",
      "It is not possible to reject the null hypothesis, there is no reason to find the groups different.\n",
      "None\n",
      "p-value: 0.773\n",
      "It is not possible to reject the null hypothesis, there is no reason to find the groups different.\n",
      "None\n"
     ]
    }
   ],
   "source": [
    "print(stat_difference_no_bonferroni(data_group_A1, data_group_B, \"MainScreenAppear\"))\n",
    "print(stat_difference_no_bonferroni(data_group_A1, data_group_B, \"OffersScreenAppear\"))\n",
    "print(stat_difference_no_bonferroni(data_group_A1, data_group_B, \"CartScreenAppear\"))\n",
    "print(stat_difference_no_bonferroni(data_group_A1, data_group_B, \"PaymentScreenSuccessful\"))\n",
    "print(stat_difference_no_bonferroni(data_group_A1, data_group_B, \"Tutorial\"))"
   ]
  },
  {
   "cell_type": "markdown",
   "metadata": {},
   "source": [
    "Even without the Bonferroni correction, there is no statistically significant difference between the groups."
   ]
  },
  {
   "cell_type": "markdown",
   "metadata": {},
   "source": [
    "**Based on the A/A/B test analysis, we can conclude that there is no statistically significant difference between the three groups.**"
   ]
  },
  {
   "cell_type": "markdown",
   "metadata": {},
   "source": [
    "## Conclusions"
   ]
  },
  {
   "cell_type": "markdown",
   "metadata": {},
   "source": [
    "In this project, we had two tasks:\n",
    "1. Find out how users of the mobile app behave.\n",
    "2. To examine the results of an A/A/B test.\n",
    "\n",
    "During the data preprocessing, we found out that we have data only for 7 days.\n",
    "Before this date, the minimum number of events was logged. \n",
    "Therefore we deleted the data for the first 7 days and then worked on the cleaned data.\n",
    "\n",
    "We studied the sales funnel.\n",
    "\n",
    "In this application, the funnel consists of four events: the user launches the application, then goes to the shopping cart page, then to the credit card details entry form, and the last step is the opening of the successful payment screen.\n",
    "\n",
    "A significant part of users gets lost during the transition between launching the application to the shopping cart. Only 62% of users move through these steps.\n",
    "\n",
    "We can assume that the reason for these disappointing numbers is that the user did not find the desired product and did not add anything to the cart.\n",
    "\n",
    "At further steps, the transitions are less noticeable: 81.3% of users go from the payment screen to entering credit card details, and 95% of users go from entering credit card details to the screen of successful payment.\n",
    "\n",
    "In total, 47.7% of users go from opening the application to a successful payment\n",
    "\n",
    "Then, we conducted a statistical analysis and compared the number of users who made a particular event in two control groups and one experimental group.\n",
    "\n",
    "We checked that the division between groups was done correctly. Then, we compared the shares of users who made particular events.\n",
    "We did not find a statistically significant difference between groups in any of the comparisons using the Bonferroni correction.\n",
    "\n",
    "Without the Bonferroni correction, however, there is no difference between the groups either.\n",
    "\n",
    "**Based on the analysis of the A/A/B test, it can be concluded that there is no statistically significant difference between the three groups.**\n",
    "\n",
    "The test can be stopped, since in almost all tests the difference between the p-value and significance level is quite large, so the situation is unlikely to change.\n",
    "\n",
    "**We draw the following conclusions:**\n",
    "\n",
    "**1) We should find the reason for losing users during the transition from launching the app to the shopping cart.**\n",
    "\n",
    "**2. Changing the font in the application does not affect the user’s behavior in any way.**\n"
   ]
  }
 ],
 "metadata": {
  "ExecuteTimeLog": [
   {
    "duration": 1893,
    "start_time": "2022-02-14T11:20:06.844Z"
   },
   {
    "duration": 508,
    "start_time": "2022-02-14T11:20:54.900Z"
   },
   {
    "duration": 50,
    "start_time": "2022-02-14T11:26:40.917Z"
   },
   {
    "duration": 318,
    "start_time": "2022-02-14T11:41:12.977Z"
   },
   {
    "duration": 25,
    "start_time": "2022-02-14T11:41:15.026Z"
   },
   {
    "duration": 106,
    "start_time": "2022-02-14T11:41:23.294Z"
   },
   {
    "duration": 99,
    "start_time": "2022-02-14T11:43:30.292Z"
   },
   {
    "duration": 1728,
    "start_time": "2022-02-14T11:44:07.695Z"
   },
   {
    "duration": 28,
    "start_time": "2022-02-14T11:44:09.587Z"
   },
   {
    "duration": 9,
    "start_time": "2022-02-14T11:47:42.668Z"
   },
   {
    "duration": 21,
    "start_time": "2022-02-14T11:47:56.614Z"
   },
   {
    "duration": 448,
    "start_time": "2022-02-14T11:49:35.019Z"
   },
   {
    "duration": 313,
    "start_time": "2022-02-14T11:49:41.324Z"
   },
   {
    "duration": 278,
    "start_time": "2022-02-14T11:49:47.312Z"
   },
   {
    "duration": 286,
    "start_time": "2022-02-14T11:49:52.178Z"
   },
   {
    "duration": 55,
    "start_time": "2022-02-14T11:50:37.957Z"
   },
   {
    "duration": 21,
    "start_time": "2022-02-14T11:50:40.198Z"
   },
   {
    "duration": 29,
    "start_time": "2022-02-14T11:50:46.740Z"
   },
   {
    "duration": 8,
    "start_time": "2022-02-14T13:15:38.596Z"
   },
   {
    "duration": 37,
    "start_time": "2022-02-14T13:15:40.192Z"
   },
   {
    "duration": 8,
    "start_time": "2022-02-14T13:15:49.121Z"
   },
   {
    "duration": 29,
    "start_time": "2022-02-14T13:15:51.843Z"
   },
   {
    "duration": 5,
    "start_time": "2022-02-14T13:20:15.697Z"
   },
   {
    "duration": 1627,
    "start_time": "2022-02-14T13:20:18.004Z"
   },
   {
    "duration": 27,
    "start_time": "2022-02-14T13:20:20.891Z"
   },
   {
    "duration": 9,
    "start_time": "2022-02-14T13:20:24.434Z"
   },
   {
    "duration": 43,
    "start_time": "2022-02-14T13:20:27.603Z"
   },
   {
    "duration": 77,
    "start_time": "2022-02-14T13:31:11.387Z"
   },
   {
    "duration": 178,
    "start_time": "2022-02-14T13:31:37.074Z"
   },
   {
    "duration": 161,
    "start_time": "2022-02-14T13:32:34.772Z"
   },
   {
    "duration": 7,
    "start_time": "2022-02-14T13:33:30.139Z"
   },
   {
    "duration": 8728,
    "start_time": "2022-02-14T13:34:27.894Z"
   },
   {
    "duration": 17,
    "start_time": "2022-02-14T13:34:42.721Z"
   },
   {
    "duration": 30,
    "start_time": "2022-02-14T13:34:45.683Z"
   },
   {
    "duration": 48,
    "start_time": "2022-02-14T13:43:55.210Z"
   },
   {
    "duration": 101,
    "start_time": "2022-02-14T13:43:57.387Z"
   },
   {
    "duration": 22,
    "start_time": "2022-02-14T13:52:59.017Z"
   },
   {
    "duration": 57,
    "start_time": "2022-02-14T13:53:01.994Z"
   },
   {
    "duration": 299,
    "start_time": "2022-02-14T13:55:46.835Z"
   },
   {
    "duration": 284,
    "start_time": "2022-02-14T13:55:50.821Z"
   },
   {
    "duration": 340,
    "start_time": "2022-02-14T14:01:58.813Z"
   },
   {
    "duration": 25,
    "start_time": "2022-02-14T14:02:17.940Z"
   },
   {
    "duration": 49,
    "start_time": "2022-02-14T14:02:20.274Z"
   },
   {
    "duration": 5,
    "start_time": "2022-02-14T14:02:35.178Z"
   },
   {
    "duration": 1539,
    "start_time": "2022-02-14T14:02:35.189Z"
   },
   {
    "duration": 27,
    "start_time": "2022-02-14T14:02:36.731Z"
   },
   {
    "duration": 7,
    "start_time": "2022-02-14T14:02:36.761Z"
   },
   {
    "duration": 72,
    "start_time": "2022-02-14T14:02:36.771Z"
   },
   {
    "duration": 86,
    "start_time": "2022-02-14T14:02:36.845Z"
   },
   {
    "duration": 338,
    "start_time": "2022-02-14T14:02:36.934Z"
   },
   {
    "duration": 15,
    "start_time": "2022-02-14T14:02:37.274Z"
   },
   {
    "duration": 275,
    "start_time": "2022-02-14T14:02:37.294Z"
   },
   {
    "duration": 22,
    "start_time": "2022-02-14T14:03:26.050Z"
   },
   {
    "duration": 49,
    "start_time": "2022-02-14T14:03:28.810Z"
   },
   {
    "duration": 360,
    "start_time": "2022-02-14T19:13:12.834Z"
   },
   {
    "duration": 1519,
    "start_time": "2022-02-14T19:13:20.717Z"
   },
   {
    "duration": 1065,
    "start_time": "2022-02-14T19:13:22.238Z"
   },
   {
    "duration": 98,
    "start_time": "2022-02-14T19:13:23.305Z"
   },
   {
    "duration": 16,
    "start_time": "2022-02-14T19:13:23.405Z"
   },
   {
    "duration": 39,
    "start_time": "2022-02-14T19:13:23.423Z"
   },
   {
    "duration": 396,
    "start_time": "2022-02-14T19:13:23.464Z"
   },
   {
    "duration": -425,
    "start_time": "2022-02-14T19:13:24.287Z"
   },
   {
    "duration": -425,
    "start_time": "2022-02-14T19:13:24.288Z"
   },
   {
    "duration": -426,
    "start_time": "2022-02-14T19:13:24.290Z"
   },
   {
    "duration": -425,
    "start_time": "2022-02-14T19:13:24.291Z"
   },
   {
    "duration": 294,
    "start_time": "2022-02-14T19:17:29.229Z"
   },
   {
    "duration": 17,
    "start_time": "2022-02-14T19:17:37.408Z"
   },
   {
    "duration": 62,
    "start_time": "2022-02-14T19:17:41.129Z"
   },
   {
    "duration": 220,
    "start_time": "2022-02-14T19:17:46.603Z"
   },
   {
    "duration": 11,
    "start_time": "2022-02-14T19:18:04.420Z"
   },
   {
    "duration": 422,
    "start_time": "2022-02-14T19:18:22.598Z"
   },
   {
    "duration": 360,
    "start_time": "2022-02-14T19:18:30.555Z"
   },
   {
    "duration": 12,
    "start_time": "2022-02-14T19:18:46.747Z"
   },
   {
    "duration": 466,
    "start_time": "2022-02-14T19:30:25.388Z"
   },
   {
    "duration": 571,
    "start_time": "2022-02-14T19:34:07.196Z"
   },
   {
    "duration": 92,
    "start_time": "2022-02-14T19:37:10.991Z"
   },
   {
    "duration": 68,
    "start_time": "2022-02-14T19:37:15.497Z"
   },
   {
    "duration": 3,
    "start_time": "2022-02-14T19:37:42.369Z"
   },
   {
    "duration": 103,
    "start_time": "2022-02-14T19:37:44.446Z"
   },
   {
    "duration": 94,
    "start_time": "2022-02-14T19:38:03.131Z"
   },
   {
    "duration": 88,
    "start_time": "2022-02-14T19:38:07.136Z"
   },
   {
    "duration": 4,
    "start_time": "2022-02-14T19:38:25.002Z"
   },
   {
    "duration": 1080,
    "start_time": "2022-02-14T19:38:25.008Z"
   },
   {
    "duration": 28,
    "start_time": "2022-02-14T19:38:26.090Z"
   },
   {
    "duration": 7,
    "start_time": "2022-02-14T19:38:26.120Z"
   },
   {
    "duration": 110,
    "start_time": "2022-02-14T19:38:26.128Z"
   },
   {
    "duration": 3,
    "start_time": "2022-02-14T19:38:26.239Z"
   },
   {
    "duration": 76,
    "start_time": "2022-02-14T19:38:26.243Z"
   },
   {
    "duration": 202,
    "start_time": "2022-02-14T19:38:26.320Z"
   },
   {
    "duration": 12,
    "start_time": "2022-02-14T19:38:26.525Z"
   },
   {
    "duration": 11,
    "start_time": "2022-02-14T19:49:15.957Z"
   },
   {
    "duration": 45,
    "start_time": "2022-02-14T19:51:10.778Z"
   },
   {
    "duration": 279,
    "start_time": "2022-02-14T19:52:12.301Z"
   },
   {
    "duration": 22,
    "start_time": "2022-02-14T19:53:49.336Z"
   },
   {
    "duration": 2167,
    "start_time": "2022-02-14T19:56:37.871Z"
   },
   {
    "duration": 95,
    "start_time": "2022-02-14T20:01:59.741Z"
   },
   {
    "duration": 126,
    "start_time": "2022-02-14T20:02:21.579Z"
   },
   {
    "duration": 111,
    "start_time": "2022-02-14T20:02:30.165Z"
   },
   {
    "duration": 99,
    "start_time": "2022-02-14T20:02:44.183Z"
   },
   {
    "duration": 35,
    "start_time": "2022-02-14T20:03:47.350Z"
   },
   {
    "duration": 3,
    "start_time": "2022-02-14T20:03:53.932Z"
   },
   {
    "duration": 1817,
    "start_time": "2022-02-14T20:03:53.938Z"
   },
   {
    "duration": 146,
    "start_time": "2022-02-14T20:03:55.758Z"
   },
   {
    "duration": 40,
    "start_time": "2022-02-14T20:03:55.906Z"
   },
   {
    "duration": 6,
    "start_time": "2022-02-14T20:03:55.948Z"
   },
   {
    "duration": 185,
    "start_time": "2022-02-14T20:03:55.956Z"
   },
   {
    "duration": 117,
    "start_time": "2022-02-14T20:03:56.144Z"
   },
   {
    "duration": 214,
    "start_time": "2022-02-14T20:03:56.263Z"
   },
   {
    "duration": 22,
    "start_time": "2022-02-14T20:03:56.480Z"
   },
   {
    "duration": 162,
    "start_time": "2022-02-14T20:03:56.518Z"
   },
   {
    "duration": 42,
    "start_time": "2022-02-14T20:04:49.547Z"
   },
   {
    "duration": 41,
    "start_time": "2022-02-14T20:05:03.126Z"
   },
   {
    "duration": 54,
    "start_time": "2022-02-14T20:05:13.646Z"
   },
   {
    "duration": 24,
    "start_time": "2022-02-14T20:05:27.304Z"
   },
   {
    "duration": 24,
    "start_time": "2022-02-14T20:05:35.805Z"
   },
   {
    "duration": 185,
    "start_time": "2022-02-14T20:22:35.140Z"
   },
   {
    "duration": 133,
    "start_time": "2022-02-14T20:23:10.022Z"
   },
   {
    "duration": 138,
    "start_time": "2022-02-14T20:23:37.658Z"
   },
   {
    "duration": 137,
    "start_time": "2022-02-14T20:23:48.465Z"
   },
   {
    "duration": 152,
    "start_time": "2022-02-14T20:23:57.688Z"
   },
   {
    "duration": 90,
    "start_time": "2022-02-14T20:24:05.243Z"
   },
   {
    "duration": 137,
    "start_time": "2022-02-14T20:24:12.089Z"
   },
   {
    "duration": 142,
    "start_time": "2022-02-14T20:25:57.839Z"
   },
   {
    "duration": 22,
    "start_time": "2022-02-14T20:27:03.420Z"
   },
   {
    "duration": 22,
    "start_time": "2022-02-14T20:27:29.385Z"
   },
   {
    "duration": 279,
    "start_time": "2022-02-14T20:27:35.542Z"
   },
   {
    "duration": 36,
    "start_time": "2022-02-14T20:27:51.676Z"
   },
   {
    "duration": 318,
    "start_time": "2022-02-14T20:28:39.484Z"
   },
   {
    "duration": 23,
    "start_time": "2022-02-14T20:29:12.498Z"
   },
   {
    "duration": 260,
    "start_time": "2022-02-14T20:30:26.656Z"
   },
   {
    "duration": 98,
    "start_time": "2022-02-14T20:31:22.638Z"
   },
   {
    "duration": 58,
    "start_time": "2022-02-14T20:32:20.310Z"
   },
   {
    "duration": 35,
    "start_time": "2022-02-14T20:33:12.793Z"
   },
   {
    "duration": 86,
    "start_time": "2022-02-14T20:34:04.529Z"
   },
   {
    "duration": 59,
    "start_time": "2022-02-14T20:34:10.816Z"
   },
   {
    "duration": 62,
    "start_time": "2022-02-14T20:35:10.085Z"
   },
   {
    "duration": 33,
    "start_time": "2022-02-14T20:35:54.777Z"
   },
   {
    "duration": 277,
    "start_time": "2022-02-14T20:37:13.267Z"
   },
   {
    "duration": 265,
    "start_time": "2022-02-14T20:37:50.463Z"
   },
   {
    "duration": 406,
    "start_time": "2022-02-14T20:38:01.871Z"
   },
   {
    "duration": 263,
    "start_time": "2022-02-14T20:38:50.220Z"
   },
   {
    "duration": 243,
    "start_time": "2022-02-14T20:39:08.467Z"
   },
   {
    "duration": 262,
    "start_time": "2022-02-14T20:39:22.418Z"
   },
   {
    "duration": 251,
    "start_time": "2022-02-14T20:39:48.025Z"
   },
   {
    "duration": 93,
    "start_time": "2022-02-14T20:42:56.162Z"
   },
   {
    "duration": 1306,
    "start_time": "2022-02-14T20:43:23.901Z"
   },
   {
    "duration": 83,
    "start_time": "2022-02-14T20:46:33.824Z"
   },
   {
    "duration": 1032,
    "start_time": "2022-02-14T20:46:42.621Z"
   },
   {
    "duration": 4096,
    "start_time": "2022-02-15T12:35:20.088Z"
   },
   {
    "duration": 2414,
    "start_time": "2022-02-15T12:35:24.186Z"
   },
   {
    "duration": 224,
    "start_time": "2022-02-15T12:35:26.604Z"
   },
   {
    "duration": 26,
    "start_time": "2022-02-15T12:35:26.831Z"
   },
   {
    "duration": 8,
    "start_time": "2022-02-15T12:35:26.859Z"
   },
   {
    "duration": 179,
    "start_time": "2022-02-15T12:35:26.870Z"
   },
   {
    "duration": 106,
    "start_time": "2022-02-15T12:35:27.052Z"
   },
   {
    "duration": 292,
    "start_time": "2022-02-15T12:35:27.162Z"
   },
   {
    "duration": 27,
    "start_time": "2022-02-15T12:35:27.456Z"
   },
   {
    "duration": 45,
    "start_time": "2022-02-15T12:35:27.486Z"
   },
   {
    "duration": 200,
    "start_time": "2022-02-15T12:35:27.534Z"
   },
   {
    "duration": 87,
    "start_time": "2022-02-15T12:35:27.737Z"
   },
   {
    "duration": 43,
    "start_time": "2022-02-15T12:35:27.826Z"
   },
   {
    "duration": 396,
    "start_time": "2022-02-15T12:35:27.871Z"
   },
   {
    "duration": 19013,
    "start_time": "2022-02-15T12:35:28.270Z"
   },
   {
    "duration": 124,
    "start_time": "2022-02-15T12:36:43.738Z"
   },
   {
    "duration": 1920,
    "start_time": "2022-02-15T12:36:52.487Z"
   },
   {
    "duration": 44,
    "start_time": "2022-02-15T12:37:45.492Z"
   },
   {
    "duration": 178,
    "start_time": "2022-02-15T12:39:30.744Z"
   },
   {
    "duration": 88,
    "start_time": "2022-02-15T12:39:32.962Z"
   },
   {
    "duration": 21,
    "start_time": "2022-02-15T12:39:38.795Z"
   },
   {
    "duration": 91,
    "start_time": "2022-02-15T12:40:58.986Z"
   },
   {
    "duration": 76,
    "start_time": "2022-02-15T12:41:23.825Z"
   },
   {
    "duration": 78,
    "start_time": "2022-02-15T12:42:24.368Z"
   },
   {
    "duration": 213,
    "start_time": "2022-02-15T15:22:43.730Z"
   },
   {
    "duration": 1361,
    "start_time": "2022-02-15T15:22:48.722Z"
   },
   {
    "duration": 1037,
    "start_time": "2022-02-15T15:22:50.085Z"
   },
   {
    "duration": 186,
    "start_time": "2022-02-15T15:22:51.124Z"
   },
   {
    "duration": 18,
    "start_time": "2022-02-15T15:22:51.312Z"
   },
   {
    "duration": 6,
    "start_time": "2022-02-15T15:22:51.332Z"
   },
   {
    "duration": 130,
    "start_time": "2022-02-15T15:22:51.359Z"
   },
   {
    "duration": 69,
    "start_time": "2022-02-15T15:22:51.491Z"
   },
   {
    "duration": 165,
    "start_time": "2022-02-15T15:22:51.561Z"
   },
   {
    "duration": 21,
    "start_time": "2022-02-15T15:22:51.729Z"
   },
   {
    "duration": 21,
    "start_time": "2022-02-15T15:22:51.759Z"
   },
   {
    "duration": 139,
    "start_time": "2022-02-15T15:22:51.782Z"
   },
   {
    "duration": 56,
    "start_time": "2022-02-15T15:22:51.923Z"
   },
   {
    "duration": 5,
    "start_time": "2022-02-15T15:22:51.981Z"
   },
   {
    "duration": 24,
    "start_time": "2022-02-15T15:22:51.988Z"
   },
   {
    "duration": 234,
    "start_time": "2022-02-15T15:22:52.014Z"
   },
   {
    "duration": 55,
    "start_time": "2022-02-15T15:22:52.249Z"
   },
   {
    "duration": 19,
    "start_time": "2022-02-15T15:22:52.306Z"
   },
   {
    "duration": 2192,
    "start_time": "2022-02-15T20:12:07.959Z"
   },
   {
    "duration": 1580,
    "start_time": "2022-02-15T20:12:10.154Z"
   },
   {
    "duration": 248,
    "start_time": "2022-02-15T20:12:11.738Z"
   },
   {
    "duration": 44,
    "start_time": "2022-02-15T20:12:11.989Z"
   },
   {
    "duration": 8,
    "start_time": "2022-02-15T20:12:12.036Z"
   },
   {
    "duration": 214,
    "start_time": "2022-02-15T20:12:12.047Z"
   },
   {
    "duration": 108,
    "start_time": "2022-02-15T20:12:12.263Z"
   },
   {
    "duration": 253,
    "start_time": "2022-02-15T20:12:12.374Z"
   },
   {
    "duration": 35,
    "start_time": "2022-02-15T20:12:12.630Z"
   },
   {
    "duration": 61,
    "start_time": "2022-02-15T20:12:12.667Z"
   },
   {
    "duration": 203,
    "start_time": "2022-02-15T20:12:12.730Z"
   },
   {
    "duration": 93,
    "start_time": "2022-02-15T20:12:12.936Z"
   },
   {
    "duration": 6,
    "start_time": "2022-02-15T20:12:13.032Z"
   },
   {
    "duration": 47,
    "start_time": "2022-02-15T20:12:13.041Z"
   },
   {
    "duration": 364,
    "start_time": "2022-02-15T20:12:13.092Z"
   },
   {
    "duration": 100,
    "start_time": "2022-02-15T20:12:13.460Z"
   },
   {
    "duration": 27,
    "start_time": "2022-02-15T20:12:13.563Z"
   },
   {
    "duration": 34,
    "start_time": "2022-02-15T20:24:58.794Z"
   },
   {
    "duration": 35,
    "start_time": "2022-02-15T20:29:44.472Z"
   },
   {
    "duration": 29,
    "start_time": "2022-02-15T20:34:04.371Z"
   },
   {
    "duration": 5,
    "start_time": "2022-02-15T20:36:24.882Z"
   },
   {
    "duration": 485,
    "start_time": "2022-02-15T20:36:49.343Z"
   },
   {
    "duration": 4,
    "start_time": "2022-02-15T20:37:11.520Z"
   },
   {
    "duration": 90,
    "start_time": "2022-02-15T20:37:17.600Z"
   },
   {
    "duration": 238,
    "start_time": "2022-02-15T20:37:28.900Z"
   },
   {
    "duration": 244,
    "start_time": "2022-02-15T20:37:38.840Z"
   },
   {
    "duration": 253,
    "start_time": "2022-02-15T20:38:47.937Z"
   },
   {
    "duration": 241,
    "start_time": "2022-02-15T20:38:57.554Z"
   },
   {
    "duration": 256,
    "start_time": "2022-02-15T20:51:41.237Z"
   },
   {
    "duration": 1016,
    "start_time": "2022-02-15T20:51:50.559Z"
   },
   {
    "duration": 292,
    "start_time": "2022-02-15T20:52:29.106Z"
   },
   {
    "duration": 286,
    "start_time": "2022-02-15T20:52:40.219Z"
   },
   {
    "duration": 25,
    "start_time": "2022-02-15T20:52:53.335Z"
   },
   {
    "duration": 24,
    "start_time": "2022-02-15T20:53:08.498Z"
   },
   {
    "duration": 31,
    "start_time": "2022-02-15T20:53:22.668Z"
   },
   {
    "duration": 22,
    "start_time": "2022-02-15T20:53:26.877Z"
   },
   {
    "duration": 292,
    "start_time": "2022-02-15T20:53:31.166Z"
   },
   {
    "duration": 27,
    "start_time": "2022-02-15T20:54:25.930Z"
   },
   {
    "duration": 30,
    "start_time": "2022-02-15T20:54:34.739Z"
   },
   {
    "duration": 79,
    "start_time": "2022-02-15T20:55:23.382Z"
   },
   {
    "duration": 99,
    "start_time": "2022-02-15T20:55:31.135Z"
   },
   {
    "duration": 29,
    "start_time": "2022-02-15T20:55:43.486Z"
   },
   {
    "duration": 30,
    "start_time": "2022-02-15T20:57:30.436Z"
   },
   {
    "duration": 36,
    "start_time": "2022-02-15T20:58:17.597Z"
   },
   {
    "duration": 29,
    "start_time": "2022-02-15T20:58:25.568Z"
   },
   {
    "duration": 315,
    "start_time": "2022-02-15T20:58:35.679Z"
   },
   {
    "duration": 31,
    "start_time": "2022-02-15T20:58:42.185Z"
   },
   {
    "duration": 405,
    "start_time": "2022-02-16T06:04:18.925Z"
   },
   {
    "duration": 1419,
    "start_time": "2022-02-16T06:04:25.538Z"
   },
   {
    "duration": 959,
    "start_time": "2022-02-16T06:04:26.959Z"
   },
   {
    "duration": 164,
    "start_time": "2022-02-16T06:04:27.919Z"
   },
   {
    "duration": 17,
    "start_time": "2022-02-16T06:04:28.084Z"
   },
   {
    "duration": 6,
    "start_time": "2022-02-16T06:04:28.102Z"
   },
   {
    "duration": 132,
    "start_time": "2022-02-16T06:04:28.110Z"
   },
   {
    "duration": 52,
    "start_time": "2022-02-16T06:04:28.246Z"
   },
   {
    "duration": 155,
    "start_time": "2022-02-16T06:04:28.300Z"
   },
   {
    "duration": 19,
    "start_time": "2022-02-16T06:04:28.457Z"
   },
   {
    "duration": 20,
    "start_time": "2022-02-16T06:04:28.478Z"
   },
   {
    "duration": 131,
    "start_time": "2022-02-16T06:04:28.499Z"
   },
   {
    "duration": 53,
    "start_time": "2022-02-16T06:04:28.631Z"
   },
   {
    "duration": 4,
    "start_time": "2022-02-16T06:04:28.685Z"
   },
   {
    "duration": 22,
    "start_time": "2022-02-16T06:04:28.690Z"
   },
   {
    "duration": 205,
    "start_time": "2022-02-16T06:04:28.714Z"
   },
   {
    "duration": 56,
    "start_time": "2022-02-16T06:04:28.920Z"
   },
   {
    "duration": 17,
    "start_time": "2022-02-16T06:04:28.978Z"
   },
   {
    "duration": 21,
    "start_time": "2022-02-16T06:04:28.996Z"
   },
   {
    "duration": 31,
    "start_time": "2022-02-16T06:04:29.019Z"
   },
   {
    "duration": 667,
    "start_time": "2022-02-16T06:04:29.051Z"
   },
   {
    "duration": 24,
    "start_time": "2022-02-16T06:04:29.720Z"
   },
   {
    "duration": 477,
    "start_time": "2022-02-16T06:04:29.745Z"
   },
   {
    "duration": 190,
    "start_time": "2022-02-16T06:06:07.549Z"
   },
   {
    "duration": 1585,
    "start_time": "2022-02-16T10:04:04.296Z"
   },
   {
    "duration": 1198,
    "start_time": "2022-02-16T10:04:05.884Z"
   },
   {
    "duration": 208,
    "start_time": "2022-02-16T10:04:07.084Z"
   },
   {
    "duration": 22,
    "start_time": "2022-02-16T10:04:07.295Z"
   },
   {
    "duration": 8,
    "start_time": "2022-02-16T10:04:07.319Z"
   },
   {
    "duration": 192,
    "start_time": "2022-02-16T10:04:07.329Z"
   },
   {
    "duration": 79,
    "start_time": "2022-02-16T10:04:07.523Z"
   },
   {
    "duration": 193,
    "start_time": "2022-02-16T10:04:07.606Z"
   },
   {
    "duration": 25,
    "start_time": "2022-02-16T10:04:07.801Z"
   },
   {
    "duration": 47,
    "start_time": "2022-02-16T10:04:07.828Z"
   },
   {
    "duration": 162,
    "start_time": "2022-02-16T10:04:07.878Z"
   },
   {
    "duration": 68,
    "start_time": "2022-02-16T10:04:08.042Z"
   },
   {
    "duration": 6,
    "start_time": "2022-02-16T10:04:08.111Z"
   },
   {
    "duration": 56,
    "start_time": "2022-02-16T10:04:08.118Z"
   },
   {
    "duration": 287,
    "start_time": "2022-02-16T10:04:08.176Z"
   },
   {
    "duration": 65,
    "start_time": "2022-02-16T10:04:08.465Z"
   },
   {
    "duration": 45,
    "start_time": "2022-02-16T10:04:08.532Z"
   },
   {
    "duration": 28,
    "start_time": "2022-02-16T10:04:08.578Z"
   },
   {
    "duration": 25,
    "start_time": "2022-02-16T10:04:08.608Z"
   },
   {
    "duration": 608,
    "start_time": "2022-02-16T10:04:08.635Z"
   },
   {
    "duration": 32,
    "start_time": "2022-02-16T10:04:09.245Z"
   },
   {
    "duration": 618,
    "start_time": "2022-02-16T10:04:09.278Z"
   },
   {
    "duration": 453,
    "start_time": "2022-02-16T10:26:49.217Z"
   },
   {
    "duration": 192,
    "start_time": "2022-02-16T10:27:28.833Z"
   },
   {
    "duration": 286,
    "start_time": "2022-02-16T10:38:53.017Z"
   },
   {
    "duration": 284,
    "start_time": "2022-02-16T10:39:10.024Z"
   },
   {
    "duration": 30,
    "start_time": "2022-02-16T10:40:07.326Z"
   },
   {
    "duration": 11,
    "start_time": "2022-02-16T10:41:34.980Z"
   },
   {
    "duration": 9,
    "start_time": "2022-02-16T10:42:14.330Z"
   },
   {
    "duration": 87,
    "start_time": "2022-02-16T10:42:16.678Z"
   },
   {
    "duration": 11,
    "start_time": "2022-02-16T10:42:26.753Z"
   },
   {
    "duration": 10,
    "start_time": "2022-02-16T11:18:15.875Z"
   },
   {
    "duration": 9,
    "start_time": "2022-02-16T11:18:24.836Z"
   },
   {
    "duration": 16,
    "start_time": "2022-02-16T11:18:39.789Z"
   },
   {
    "duration": 31,
    "start_time": "2022-02-16T11:19:10.216Z"
   },
   {
    "duration": 24,
    "start_time": "2022-02-16T11:19:19.767Z"
   },
   {
    "duration": 22,
    "start_time": "2022-02-16T11:19:21.553Z"
   },
   {
    "duration": 68,
    "start_time": "2022-02-16T11:19:23.663Z"
   },
   {
    "duration": 21,
    "start_time": "2022-02-16T11:19:30.336Z"
   },
   {
    "duration": 23,
    "start_time": "2022-02-16T11:19:55.179Z"
   },
   {
    "duration": 74,
    "start_time": "2022-02-16T11:20:13.905Z"
   },
   {
    "duration": 289,
    "start_time": "2022-02-16T11:21:27.574Z"
   },
   {
    "duration": 333,
    "start_time": "2022-02-16T11:22:20.785Z"
   },
   {
    "duration": 3,
    "start_time": "2022-02-16T11:23:01.634Z"
   },
   {
    "duration": 3,
    "start_time": "2022-02-16T11:23:16.345Z"
   },
   {
    "duration": 376,
    "start_time": "2022-02-16T11:23:23.400Z"
   },
   {
    "duration": 280,
    "start_time": "2022-02-16T11:24:10.083Z"
   },
   {
    "duration": 8,
    "start_time": "2022-02-16T11:26:11.767Z"
   },
   {
    "duration": 1642,
    "start_time": "2022-02-16T13:20:10.625Z"
   },
   {
    "duration": 9,
    "start_time": "2022-02-16T13:20:17.558Z"
   },
   {
    "duration": 17,
    "start_time": "2022-02-16T13:20:23.566Z"
   },
   {
    "duration": 338,
    "start_time": "2022-02-16T13:22:39.489Z"
   },
   {
    "duration": 281,
    "start_time": "2022-02-16T13:22:54.209Z"
   },
   {
    "duration": 109,
    "start_time": "2022-02-16T13:23:31.172Z"
   },
   {
    "duration": 431,
    "start_time": "2022-02-16T13:24:53.921Z"
   },
   {
    "duration": 24922,
    "start_time": "2022-02-16T13:26:04.616Z"
   },
   {
    "duration": 1460,
    "start_time": "2022-02-16T16:50:57.532Z"
   },
   {
    "duration": 1068,
    "start_time": "2022-02-16T16:50:58.993Z"
   },
   {
    "duration": 172,
    "start_time": "2022-02-16T16:51:00.063Z"
   },
   {
    "duration": 19,
    "start_time": "2022-02-16T16:51:00.246Z"
   },
   {
    "duration": 7,
    "start_time": "2022-02-16T16:51:00.267Z"
   },
   {
    "duration": 147,
    "start_time": "2022-02-16T16:51:00.275Z"
   },
   {
    "duration": 66,
    "start_time": "2022-02-16T16:51:00.424Z"
   },
   {
    "duration": 175,
    "start_time": "2022-02-16T16:51:00.492Z"
   },
   {
    "duration": 21,
    "start_time": "2022-02-16T16:51:00.670Z"
   },
   {
    "duration": 61,
    "start_time": "2022-02-16T16:51:00.693Z"
   },
   {
    "duration": 140,
    "start_time": "2022-02-16T16:51:00.756Z"
   },
   {
    "duration": 62,
    "start_time": "2022-02-16T16:51:00.898Z"
   },
   {
    "duration": 4,
    "start_time": "2022-02-16T16:51:00.961Z"
   },
   {
    "duration": 24,
    "start_time": "2022-02-16T16:51:00.967Z"
   },
   {
    "duration": 220,
    "start_time": "2022-02-16T16:51:00.992Z"
   },
   {
    "duration": 64,
    "start_time": "2022-02-16T16:51:01.213Z"
   },
   {
    "duration": 17,
    "start_time": "2022-02-16T16:51:01.279Z"
   },
   {
    "duration": 24,
    "start_time": "2022-02-16T16:51:01.298Z"
   },
   {
    "duration": 32,
    "start_time": "2022-02-16T16:51:01.324Z"
   },
   {
    "duration": 810,
    "start_time": "2022-02-16T16:51:01.357Z"
   },
   {
    "duration": 26,
    "start_time": "2022-02-16T16:51:02.168Z"
   },
   {
    "duration": 508,
    "start_time": "2022-02-16T16:51:02.195Z"
   },
   {
    "duration": 50,
    "start_time": "2022-02-16T16:51:02.705Z"
   },
   {
    "duration": 230,
    "start_time": "2022-02-16T16:51:02.757Z"
   },
   {
    "duration": 18,
    "start_time": "2022-02-16T16:51:02.988Z"
   },
   {
    "duration": 16,
    "start_time": "2022-02-16T16:51:03.008Z"
   },
   {
    "duration": 33,
    "start_time": "2022-02-16T16:51:03.027Z"
   },
   {
    "duration": 53,
    "start_time": "2022-02-16T16:51:03.061Z"
   },
   {
    "duration": 69,
    "start_time": "2022-02-16T16:51:03.115Z"
   },
   {
    "duration": 7,
    "start_time": "2022-02-16T16:51:03.185Z"
   },
   {
    "duration": 6,
    "start_time": "2022-02-16T16:51:03.193Z"
   },
   {
    "duration": 87,
    "start_time": "2022-02-16T19:16:12.704Z"
   },
   {
    "duration": 106,
    "start_time": "2022-02-16T19:16:46.749Z"
   },
   {
    "duration": 21436,
    "start_time": "2022-02-16T19:16:50.937Z"
   },
   {
    "duration": 3,
    "start_time": "2022-02-16T19:22:34.315Z"
   },
   {
    "duration": 967,
    "start_time": "2022-02-16T19:22:34.319Z"
   },
   {
    "duration": 92,
    "start_time": "2022-02-16T19:22:35.288Z"
   },
   {
    "duration": 18,
    "start_time": "2022-02-16T19:22:35.382Z"
   },
   {
    "duration": 5,
    "start_time": "2022-02-16T19:22:35.401Z"
   },
   {
    "duration": 125,
    "start_time": "2022-02-16T19:22:35.408Z"
   },
   {
    "duration": 59,
    "start_time": "2022-02-16T19:22:35.535Z"
   },
   {
    "duration": 162,
    "start_time": "2022-02-16T19:22:35.595Z"
   },
   {
    "duration": 19,
    "start_time": "2022-02-16T19:22:35.760Z"
   },
   {
    "duration": 22,
    "start_time": "2022-02-16T19:22:35.781Z"
   },
   {
    "duration": 138,
    "start_time": "2022-02-16T19:22:35.804Z"
   },
   {
    "duration": 57,
    "start_time": "2022-02-16T19:22:35.944Z"
   },
   {
    "duration": 4,
    "start_time": "2022-02-16T19:22:36.002Z"
   },
   {
    "duration": 47,
    "start_time": "2022-02-16T19:22:36.008Z"
   },
   {
    "duration": 190,
    "start_time": "2022-02-16T19:22:36.057Z"
   },
   {
    "duration": 51,
    "start_time": "2022-02-16T19:22:36.249Z"
   },
   {
    "duration": 17,
    "start_time": "2022-02-16T19:22:36.302Z"
   },
   {
    "duration": 40,
    "start_time": "2022-02-16T19:22:36.321Z"
   },
   {
    "duration": 18,
    "start_time": "2022-02-16T19:22:36.363Z"
   },
   {
    "duration": 168,
    "start_time": "2022-02-16T19:22:36.383Z"
   },
   {
    "duration": 21,
    "start_time": "2022-02-16T19:22:36.553Z"
   },
   {
    "duration": 117,
    "start_time": "2022-02-16T19:22:36.575Z"
   },
   {
    "duration": 26,
    "start_time": "2022-02-16T19:22:36.693Z"
   },
   {
    "duration": 159,
    "start_time": "2022-02-16T19:22:36.720Z"
   },
   {
    "duration": 16,
    "start_time": "2022-02-16T19:22:36.881Z"
   },
   {
    "duration": 20,
    "start_time": "2022-02-16T19:22:36.899Z"
   },
   {
    "duration": 33,
    "start_time": "2022-02-16T19:22:36.922Z"
   },
   {
    "duration": 50,
    "start_time": "2022-02-16T19:22:36.956Z"
   },
   {
    "duration": 65,
    "start_time": "2022-02-16T19:22:37.008Z"
   },
   {
    "duration": 7,
    "start_time": "2022-02-16T19:22:37.074Z"
   },
   {
    "duration": 20687,
    "start_time": "2022-02-16T19:22:37.082Z"
   },
   {
    "duration": 8,
    "start_time": "2022-02-16T19:22:57.771Z"
   },
   {
    "duration": 3,
    "start_time": "2022-02-16T19:30:07.011Z"
   },
   {
    "duration": 2641,
    "start_time": "2022-02-16T19:30:07.016Z"
   },
   {
    "duration": 95,
    "start_time": "2022-02-16T19:30:09.659Z"
   },
   {
    "duration": 19,
    "start_time": "2022-02-16T19:30:09.756Z"
   },
   {
    "duration": 5,
    "start_time": "2022-02-16T19:30:09.776Z"
   },
   {
    "duration": 135,
    "start_time": "2022-02-16T19:30:09.782Z"
   },
   {
    "duration": 61,
    "start_time": "2022-02-16T19:30:09.919Z"
   },
   {
    "duration": 158,
    "start_time": "2022-02-16T19:30:09.982Z"
   },
   {
    "duration": 20,
    "start_time": "2022-02-16T19:30:10.143Z"
   },
   {
    "duration": 20,
    "start_time": "2022-02-16T19:30:10.165Z"
   },
   {
    "duration": 136,
    "start_time": "2022-02-16T19:30:10.186Z"
   },
   {
    "duration": 57,
    "start_time": "2022-02-16T19:30:10.323Z"
   },
   {
    "duration": 4,
    "start_time": "2022-02-16T19:30:10.381Z"
   },
   {
    "duration": 23,
    "start_time": "2022-02-16T19:30:10.387Z"
   },
   {
    "duration": 204,
    "start_time": "2022-02-16T19:30:10.412Z"
   },
   {
    "duration": 61,
    "start_time": "2022-02-16T19:30:10.618Z"
   },
   {
    "duration": 19,
    "start_time": "2022-02-16T19:30:10.681Z"
   },
   {
    "duration": 18,
    "start_time": "2022-02-16T19:30:10.702Z"
   },
   {
    "duration": 35,
    "start_time": "2022-02-16T19:30:10.721Z"
   },
   {
    "duration": 170,
    "start_time": "2022-02-16T19:30:10.757Z"
   },
   {
    "duration": 27,
    "start_time": "2022-02-16T19:30:10.929Z"
   },
   {
    "duration": 115,
    "start_time": "2022-02-16T19:30:10.957Z"
   },
   {
    "duration": 26,
    "start_time": "2022-02-16T19:30:11.074Z"
   },
   {
    "duration": 173,
    "start_time": "2022-02-16T19:30:11.102Z"
   },
   {
    "duration": 19,
    "start_time": "2022-02-16T19:30:11.277Z"
   },
   {
    "duration": 19,
    "start_time": "2022-02-16T19:30:11.297Z"
   },
   {
    "duration": 38,
    "start_time": "2022-02-16T19:30:11.319Z"
   },
   {
    "duration": 51,
    "start_time": "2022-02-16T19:30:11.358Z"
   },
   {
    "duration": 57,
    "start_time": "2022-02-16T19:30:11.411Z"
   },
   {
    "duration": 8,
    "start_time": "2022-02-16T19:30:11.470Z"
   },
   {
    "duration": 20,
    "start_time": "2022-02-16T19:30:11.479Z"
   },
   {
    "duration": 7,
    "start_time": "2022-02-16T19:30:11.500Z"
   },
   {
    "duration": 14,
    "start_time": "2022-02-16T19:30:27.001Z"
   },
   {
    "duration": 88,
    "start_time": "2022-02-16T19:30:31.953Z"
   },
   {
    "duration": 98,
    "start_time": "2022-02-16T19:30:48.981Z"
   },
   {
    "duration": 4,
    "start_time": "2022-02-16T19:32:20.438Z"
   },
   {
    "duration": 1139,
    "start_time": "2022-02-16T19:32:20.443Z"
   },
   {
    "duration": 95,
    "start_time": "2022-02-16T19:32:21.584Z"
   },
   {
    "duration": 17,
    "start_time": "2022-02-16T19:32:21.681Z"
   },
   {
    "duration": 5,
    "start_time": "2022-02-16T19:32:21.699Z"
   },
   {
    "duration": 125,
    "start_time": "2022-02-16T19:32:21.705Z"
   },
   {
    "duration": 55,
    "start_time": "2022-02-16T19:32:21.831Z"
   },
   {
    "duration": 157,
    "start_time": "2022-02-16T19:32:21.889Z"
   },
   {
    "duration": 19,
    "start_time": "2022-02-16T19:32:22.048Z"
   },
   {
    "duration": 23,
    "start_time": "2022-02-16T19:32:22.069Z"
   },
   {
    "duration": 129,
    "start_time": "2022-02-16T19:32:22.093Z"
   },
   {
    "duration": 60,
    "start_time": "2022-02-16T19:32:22.224Z"
   },
   {
    "duration": 6,
    "start_time": "2022-02-16T19:32:22.286Z"
   },
   {
    "duration": 23,
    "start_time": "2022-02-16T19:32:22.293Z"
   },
   {
    "duration": 213,
    "start_time": "2022-02-16T19:32:22.318Z"
   },
   {
    "duration": 64,
    "start_time": "2022-02-16T19:32:22.533Z"
   },
   {
    "duration": 19,
    "start_time": "2022-02-16T19:32:22.599Z"
   },
   {
    "duration": 35,
    "start_time": "2022-02-16T19:32:22.620Z"
   },
   {
    "duration": 19,
    "start_time": "2022-02-16T19:32:22.657Z"
   },
   {
    "duration": 172,
    "start_time": "2022-02-16T19:32:22.677Z"
   },
   {
    "duration": 20,
    "start_time": "2022-02-16T19:32:22.851Z"
   },
   {
    "duration": 118,
    "start_time": "2022-02-16T19:32:22.873Z"
   },
   {
    "duration": 26,
    "start_time": "2022-02-16T19:32:22.994Z"
   },
   {
    "duration": 155,
    "start_time": "2022-02-16T19:32:23.022Z"
   },
   {
    "duration": 23,
    "start_time": "2022-02-16T19:32:23.179Z"
   },
   {
    "duration": 17,
    "start_time": "2022-02-16T19:32:23.204Z"
   },
   {
    "duration": 33,
    "start_time": "2022-02-16T19:32:23.223Z"
   },
   {
    "duration": 51,
    "start_time": "2022-02-16T19:32:23.258Z"
   },
   {
    "duration": 63,
    "start_time": "2022-02-16T19:32:23.311Z"
   },
   {
    "duration": 7,
    "start_time": "2022-02-16T19:32:23.376Z"
   },
   {
    "duration": 113,
    "start_time": "2022-02-16T19:32:23.385Z"
   },
   {
    "duration": 13,
    "start_time": "2022-02-16T19:32:23.499Z"
   },
   {
    "duration": 26847,
    "start_time": "2022-02-16T19:32:32.038Z"
   },
   {
    "duration": 4,
    "start_time": "2022-02-16T19:34:05.700Z"
   },
   {
    "duration": 1190,
    "start_time": "2022-02-16T19:34:05.706Z"
   },
   {
    "duration": 90,
    "start_time": "2022-02-16T19:34:06.899Z"
   },
   {
    "duration": 18,
    "start_time": "2022-02-16T19:34:06.992Z"
   },
   {
    "duration": 5,
    "start_time": "2022-02-16T19:34:07.011Z"
   },
   {
    "duration": 129,
    "start_time": "2022-02-16T19:34:07.018Z"
   },
   {
    "duration": 53,
    "start_time": "2022-02-16T19:34:07.149Z"
   },
   {
    "duration": 168,
    "start_time": "2022-02-16T19:34:07.204Z"
   },
   {
    "duration": 20,
    "start_time": "2022-02-16T19:34:07.374Z"
   },
   {
    "duration": 24,
    "start_time": "2022-02-16T19:34:07.396Z"
   },
   {
    "duration": 135,
    "start_time": "2022-02-16T19:34:07.421Z"
   },
   {
    "duration": 49,
    "start_time": "2022-02-16T19:34:07.558Z"
   },
   {
    "duration": 4,
    "start_time": "2022-02-16T19:34:07.609Z"
   },
   {
    "duration": 37,
    "start_time": "2022-02-16T19:34:07.615Z"
   },
   {
    "duration": 204,
    "start_time": "2022-02-16T19:34:07.654Z"
   },
   {
    "duration": 58,
    "start_time": "2022-02-16T19:34:07.860Z"
   },
   {
    "duration": 31,
    "start_time": "2022-02-16T19:34:07.920Z"
   },
   {
    "duration": 21,
    "start_time": "2022-02-16T19:34:07.952Z"
   },
   {
    "duration": 19,
    "start_time": "2022-02-16T19:34:07.974Z"
   },
   {
    "duration": 172,
    "start_time": "2022-02-16T19:34:07.995Z"
   },
   {
    "duration": 21,
    "start_time": "2022-02-16T19:34:08.169Z"
   },
   {
    "duration": 127,
    "start_time": "2022-02-16T19:34:08.192Z"
   },
   {
    "duration": 33,
    "start_time": "2022-02-16T19:34:08.321Z"
   },
   {
    "duration": 170,
    "start_time": "2022-02-16T19:34:08.356Z"
   },
   {
    "duration": 27,
    "start_time": "2022-02-16T19:34:08.528Z"
   },
   {
    "duration": 23,
    "start_time": "2022-02-16T19:34:08.557Z"
   },
   {
    "duration": 23,
    "start_time": "2022-02-16T19:34:08.583Z"
   },
   {
    "duration": 75,
    "start_time": "2022-02-16T19:34:08.608Z"
   },
   {
    "duration": 51,
    "start_time": "2022-02-16T19:34:08.684Z"
   },
   {
    "duration": 15,
    "start_time": "2022-02-16T19:34:08.736Z"
   },
   {
    "duration": 99,
    "start_time": "2022-02-16T19:34:08.752Z"
   },
   {
    "duration": 12,
    "start_time": "2022-02-16T19:34:08.852Z"
   },
   {
    "duration": 93,
    "start_time": "2022-02-16T19:34:28.100Z"
   },
   {
    "duration": 571,
    "start_time": "2022-02-16T19:34:33.291Z"
   },
   {
    "duration": 456,
    "start_time": "2022-02-16T19:34:48.615Z"
   },
   {
    "duration": 95,
    "start_time": "2022-02-16T19:35:12.537Z"
   },
   {
    "duration": 99,
    "start_time": "2022-02-16T19:35:19.972Z"
   },
   {
    "duration": 62,
    "start_time": "2022-02-16T19:46:23.456Z"
   },
   {
    "duration": 58,
    "start_time": "2022-02-16T19:46:50.034Z"
   },
   {
    "duration": 8,
    "start_time": "2022-02-16T20:04:59.522Z"
   },
   {
    "duration": 7,
    "start_time": "2022-02-16T20:07:38.539Z"
   },
   {
    "duration": 8,
    "start_time": "2022-02-16T20:07:49.149Z"
   },
   {
    "duration": 6,
    "start_time": "2022-02-16T20:07:57.052Z"
   },
   {
    "duration": 7,
    "start_time": "2022-02-16T20:08:08.848Z"
   },
   {
    "duration": 8,
    "start_time": "2022-02-16T20:08:38.664Z"
   },
   {
    "duration": 6,
    "start_time": "2022-02-16T20:09:25.325Z"
   },
   {
    "duration": 60,
    "start_time": "2022-02-16T20:11:38.196Z"
   },
   {
    "duration": 5,
    "start_time": "2022-02-16T20:11:55.658Z"
   },
   {
    "duration": 17,
    "start_time": "2022-02-16T20:12:16.787Z"
   },
   {
    "duration": 15,
    "start_time": "2022-02-16T20:12:34.197Z"
   },
   {
    "duration": 15,
    "start_time": "2022-02-16T20:12:40.945Z"
   },
   {
    "duration": 112,
    "start_time": "2022-02-16T20:13:20.128Z"
   },
   {
    "duration": 340,
    "start_time": "2022-02-16T20:13:41.617Z"
   },
   {
    "duration": 341,
    "start_time": "2022-02-16T20:13:50.002Z"
   },
   {
    "duration": 5,
    "start_time": "2022-02-16T20:13:59.964Z"
   },
   {
    "duration": 16,
    "start_time": "2022-02-16T20:17:09.254Z"
   },
   {
    "duration": 6,
    "start_time": "2022-02-16T20:21:10.389Z"
   },
   {
    "duration": 115,
    "start_time": "2022-02-16T20:23:42.698Z"
   },
   {
    "duration": 6,
    "start_time": "2022-02-16T20:23:49.739Z"
   },
   {
    "duration": 7,
    "start_time": "2022-02-16T20:23:58.067Z"
   },
   {
    "duration": 299,
    "start_time": "2022-02-17T06:19:33.757Z"
   },
   {
    "duration": 1902,
    "start_time": "2022-02-17T06:19:38.948Z"
   },
   {
    "duration": 1609,
    "start_time": "2022-02-17T06:19:40.853Z"
   },
   {
    "duration": 229,
    "start_time": "2022-02-17T06:19:42.465Z"
   },
   {
    "duration": 49,
    "start_time": "2022-02-17T06:19:42.698Z"
   },
   {
    "duration": 10,
    "start_time": "2022-02-17T06:19:42.750Z"
   },
   {
    "duration": 227,
    "start_time": "2022-02-17T06:19:42.762Z"
   },
   {
    "duration": 105,
    "start_time": "2022-02-17T06:19:42.992Z"
   },
   {
    "duration": 254,
    "start_time": "2022-02-17T06:19:43.100Z"
   },
   {
    "duration": 28,
    "start_time": "2022-02-17T06:19:43.357Z"
   },
   {
    "duration": 52,
    "start_time": "2022-02-17T06:19:43.387Z"
   },
   {
    "duration": 199,
    "start_time": "2022-02-17T06:19:43.441Z"
   },
   {
    "duration": 90,
    "start_time": "2022-02-17T06:19:43.642Z"
   },
   {
    "duration": 6,
    "start_time": "2022-02-17T06:19:43.734Z"
   },
   {
    "duration": 38,
    "start_time": "2022-02-17T06:19:43.743Z"
   },
   {
    "duration": 363,
    "start_time": "2022-02-17T06:19:43.784Z"
   },
   {
    "duration": 93,
    "start_time": "2022-02-17T06:19:44.150Z"
   },
   {
    "duration": 27,
    "start_time": "2022-02-17T06:19:44.245Z"
   },
   {
    "duration": 38,
    "start_time": "2022-02-17T06:19:44.274Z"
   },
   {
    "duration": 38,
    "start_time": "2022-02-17T06:19:44.315Z"
   },
   {
    "duration": 787,
    "start_time": "2022-02-17T06:19:44.356Z"
   },
   {
    "duration": 42,
    "start_time": "2022-02-17T06:19:45.146Z"
   },
   {
    "duration": 782,
    "start_time": "2022-02-17T06:19:45.191Z"
   },
   {
    "duration": 91,
    "start_time": "2022-02-17T06:19:45.979Z"
   },
   {
    "duration": 432,
    "start_time": "2022-02-17T06:19:46.074Z"
   },
   {
    "duration": 37,
    "start_time": "2022-02-17T06:19:46.509Z"
   },
   {
    "duration": 24,
    "start_time": "2022-02-17T06:19:46.548Z"
   },
   {
    "duration": 23,
    "start_time": "2022-02-17T06:19:46.575Z"
   },
   {
    "duration": 105,
    "start_time": "2022-02-17T06:19:46.601Z"
   },
   {
    "duration": 94,
    "start_time": "2022-02-17T06:19:46.708Z"
   },
   {
    "duration": 28,
    "start_time": "2022-02-17T06:19:46.804Z"
   },
   {
    "duration": 18,
    "start_time": "2022-02-17T06:19:46.834Z"
   },
   {
    "duration": 78,
    "start_time": "2022-02-17T06:19:46.855Z"
   },
   {
    "duration": -26168,
    "start_time": "2022-02-17T06:20:13.104Z"
   },
   {
    "duration": -26168,
    "start_time": "2022-02-17T06:20:13.106Z"
   },
   {
    "duration": -26169,
    "start_time": "2022-02-17T06:20:13.108Z"
   },
   {
    "duration": 479,
    "start_time": "2022-02-17T06:23:32.874Z"
   },
   {
    "duration": 472,
    "start_time": "2022-02-17T06:23:50.853Z"
   },
   {
    "duration": 437,
    "start_time": "2022-02-17T06:24:09.799Z"
   },
   {
    "duration": 467,
    "start_time": "2022-02-17T06:24:23.028Z"
   },
   {
    "duration": 500,
    "start_time": "2022-02-17T06:25:05.820Z"
   },
   {
    "duration": 19,
    "start_time": "2022-02-17T06:26:30.665Z"
   },
   {
    "duration": 306,
    "start_time": "2022-02-17T06:26:41.271Z"
   },
   {
    "duration": 515,
    "start_time": "2022-02-17T06:27:07.727Z"
   },
   {
    "duration": 568,
    "start_time": "2022-02-17T06:27:59.337Z"
   },
   {
    "duration": 561,
    "start_time": "2022-02-17T06:28:34.707Z"
   },
   {
    "duration": 595,
    "start_time": "2022-02-17T06:30:09.654Z"
   },
   {
    "duration": 31,
    "start_time": "2022-02-17T06:31:34.242Z"
   },
   {
    "duration": 437,
    "start_time": "2022-02-17T06:32:02.416Z"
   },
   {
    "duration": 1393,
    "start_time": "2022-02-17T10:18:05.864Z"
   },
   {
    "duration": 1093,
    "start_time": "2022-02-17T10:18:07.259Z"
   },
   {
    "duration": 178,
    "start_time": "2022-02-17T10:18:08.354Z"
   },
   {
    "duration": 22,
    "start_time": "2022-02-17T10:18:08.534Z"
   },
   {
    "duration": 9,
    "start_time": "2022-02-17T10:18:08.558Z"
   },
   {
    "duration": 161,
    "start_time": "2022-02-17T10:18:08.569Z"
   },
   {
    "duration": 64,
    "start_time": "2022-02-17T10:18:08.732Z"
   },
   {
    "duration": 166,
    "start_time": "2022-02-17T10:18:08.818Z"
   },
   {
    "duration": 32,
    "start_time": "2022-02-17T10:18:08.988Z"
   },
   {
    "duration": 37,
    "start_time": "2022-02-17T10:18:09.023Z"
   },
   {
    "duration": 152,
    "start_time": "2022-02-17T10:18:09.062Z"
   },
   {
    "duration": 53,
    "start_time": "2022-02-17T10:18:09.219Z"
   },
   {
    "duration": 4,
    "start_time": "2022-02-17T10:18:09.274Z"
   },
   {
    "duration": 41,
    "start_time": "2022-02-17T10:18:09.279Z"
   },
   {
    "duration": 230,
    "start_time": "2022-02-17T10:18:09.321Z"
   },
   {
    "duration": 65,
    "start_time": "2022-02-17T10:18:09.553Z"
   },
   {
    "duration": 18,
    "start_time": "2022-02-17T10:18:09.620Z"
   },
   {
    "duration": 43,
    "start_time": "2022-02-17T10:18:09.640Z"
   },
   {
    "duration": 44,
    "start_time": "2022-02-17T10:18:09.685Z"
   },
   {
    "duration": 506,
    "start_time": "2022-02-17T10:18:09.730Z"
   },
   {
    "duration": 29,
    "start_time": "2022-02-17T10:18:10.238Z"
   },
   {
    "duration": 595,
    "start_time": "2022-02-17T10:18:10.269Z"
   },
   {
    "duration": 62,
    "start_time": "2022-02-17T10:18:10.866Z"
   },
   {
    "duration": 248,
    "start_time": "2022-02-17T10:18:10.930Z"
   },
   {
    "duration": 17,
    "start_time": "2022-02-17T10:18:11.180Z"
   },
   {
    "duration": 34,
    "start_time": "2022-02-17T10:18:11.199Z"
   },
   {
    "duration": 17,
    "start_time": "2022-02-17T10:18:11.236Z"
   },
   {
    "duration": 72,
    "start_time": "2022-02-17T10:18:11.254Z"
   },
   {
    "duration": 59,
    "start_time": "2022-02-17T10:18:11.328Z"
   },
   {
    "duration": 13,
    "start_time": "2022-02-17T10:18:11.388Z"
   },
   {
    "duration": 28,
    "start_time": "2022-02-17T10:18:11.402Z"
   },
   {
    "duration": 499,
    "start_time": "2022-02-17T10:18:11.431Z"
   },
   {
    "duration": -14198,
    "start_time": "2022-02-17T10:18:26.130Z"
   },
   {
    "duration": -14347,
    "start_time": "2022-02-17T10:18:26.280Z"
   },
   {
    "duration": -14350,
    "start_time": "2022-02-17T10:18:26.285Z"
   },
   {
    "duration": -14351,
    "start_time": "2022-02-17T10:18:26.287Z"
   },
   {
    "duration": -14353,
    "start_time": "2022-02-17T10:18:26.290Z"
   },
   {
    "duration": 389,
    "start_time": "2022-02-17T10:19:50.988Z"
   },
   {
    "duration": 8,
    "start_time": "2022-02-17T10:27:23.585Z"
   },
   {
    "duration": 22,
    "start_time": "2022-02-17T10:28:32.135Z"
   },
   {
    "duration": 23,
    "start_time": "2022-02-17T10:28:42.285Z"
   },
   {
    "duration": 353,
    "start_time": "2022-02-17T10:29:02.968Z"
   },
   {
    "duration": 201,
    "start_time": "2022-02-17T10:29:38.129Z"
   },
   {
    "duration": 23,
    "start_time": "2022-02-17T10:30:08.675Z"
   },
   {
    "duration": 23,
    "start_time": "2022-02-17T10:30:23.160Z"
   },
   {
    "duration": 329,
    "start_time": "2022-02-17T10:33:18.452Z"
   },
   {
    "duration": 357,
    "start_time": "2022-02-17T10:34:16.312Z"
   },
   {
    "duration": 375,
    "start_time": "2022-02-17T10:34:48.042Z"
   },
   {
    "duration": 363,
    "start_time": "2022-02-17T10:35:12.798Z"
   },
   {
    "duration": 331,
    "start_time": "2022-02-17T10:35:28.359Z"
   },
   {
    "duration": 353,
    "start_time": "2022-02-17T10:43:17.071Z"
   },
   {
    "duration": 518,
    "start_time": "2022-02-17T10:43:29.889Z"
   },
   {
    "duration": 41,
    "start_time": "2022-02-17T10:46:14.313Z"
   },
   {
    "duration": 124,
    "start_time": "2022-02-17T10:54:33.866Z"
   },
   {
    "duration": 134,
    "start_time": "2022-02-17T10:56:23.207Z"
   },
   {
    "duration": 115,
    "start_time": "2022-02-17T10:57:41.438Z"
   },
   {
    "duration": 120,
    "start_time": "2022-02-17T11:00:45.906Z"
   },
   {
    "duration": 192,
    "start_time": "2022-02-17T11:06:02.053Z"
   },
   {
    "duration": 370,
    "start_time": "2022-02-17T11:06:13.904Z"
   },
   {
    "duration": 139,
    "start_time": "2022-02-17T11:06:22.312Z"
   },
   {
    "duration": 130,
    "start_time": "2022-02-17T11:06:39.238Z"
   },
   {
    "duration": 143,
    "start_time": "2022-02-17T11:14:25.009Z"
   },
   {
    "duration": 127,
    "start_time": "2022-02-17T11:16:59.126Z"
   },
   {
    "duration": 121,
    "start_time": "2022-02-17T11:17:38.811Z"
   },
   {
    "duration": 140,
    "start_time": "2022-02-17T11:17:59.979Z"
   },
   {
    "duration": 119,
    "start_time": "2022-02-17T11:18:03.164Z"
   },
   {
    "duration": 125,
    "start_time": "2022-02-17T11:18:07.927Z"
   },
   {
    "duration": 134,
    "start_time": "2022-02-17T11:18:30.990Z"
   },
   {
    "duration": 6,
    "start_time": "2022-02-17T11:19:48.970Z"
   },
   {
    "duration": 138,
    "start_time": "2022-02-17T11:21:04.682Z"
   },
   {
    "duration": 118,
    "start_time": "2022-02-17T11:21:31.064Z"
   },
   {
    "duration": 121,
    "start_time": "2022-02-17T11:21:33.468Z"
   },
   {
    "duration": 116,
    "start_time": "2022-02-17T11:21:35.825Z"
   },
   {
    "duration": 136,
    "start_time": "2022-02-17T11:22:46.955Z"
   },
   {
    "duration": 149,
    "start_time": "2022-02-17T11:22:50.777Z"
   },
   {
    "duration": 135,
    "start_time": "2022-02-17T11:22:54.963Z"
   },
   {
    "duration": 3,
    "start_time": "2022-02-17T12:41:07.001Z"
   },
   {
    "duration": 1166,
    "start_time": "2022-02-17T12:41:07.006Z"
   },
   {
    "duration": 101,
    "start_time": "2022-02-17T12:41:08.174Z"
   },
   {
    "duration": 23,
    "start_time": "2022-02-17T12:41:08.277Z"
   },
   {
    "duration": 21,
    "start_time": "2022-02-17T12:41:08.302Z"
   },
   {
    "duration": 129,
    "start_time": "2022-02-17T12:41:08.324Z"
   },
   {
    "duration": 55,
    "start_time": "2022-02-17T12:41:08.454Z"
   },
   {
    "duration": 164,
    "start_time": "2022-02-17T12:41:08.511Z"
   },
   {
    "duration": 20,
    "start_time": "2022-02-17T12:41:08.677Z"
   },
   {
    "duration": 34,
    "start_time": "2022-02-17T12:41:08.698Z"
   },
   {
    "duration": 131,
    "start_time": "2022-02-17T12:41:08.733Z"
   },
   {
    "duration": 57,
    "start_time": "2022-02-17T12:41:08.866Z"
   },
   {
    "duration": 4,
    "start_time": "2022-02-17T12:41:08.925Z"
   },
   {
    "duration": 23,
    "start_time": "2022-02-17T12:41:08.931Z"
   },
   {
    "duration": 236,
    "start_time": "2022-02-17T12:41:08.955Z"
   },
   {
    "duration": 66,
    "start_time": "2022-02-17T12:41:09.193Z"
   },
   {
    "duration": 18,
    "start_time": "2022-02-17T12:41:09.260Z"
   },
   {
    "duration": 19,
    "start_time": "2022-02-17T12:41:09.280Z"
   },
   {
    "duration": 31,
    "start_time": "2022-02-17T12:41:09.301Z"
   },
   {
    "duration": 185,
    "start_time": "2022-02-17T12:41:09.334Z"
   },
   {
    "duration": 22,
    "start_time": "2022-02-17T12:41:09.520Z"
   },
   {
    "duration": 127,
    "start_time": "2022-02-17T12:41:09.543Z"
   },
   {
    "duration": 27,
    "start_time": "2022-02-17T12:41:09.672Z"
   },
   {
    "duration": 176,
    "start_time": "2022-02-17T12:41:09.701Z"
   },
   {
    "duration": 35,
    "start_time": "2022-02-17T12:41:09.880Z"
   },
   {
    "duration": 26,
    "start_time": "2022-02-17T12:41:09.917Z"
   },
   {
    "duration": 21,
    "start_time": "2022-02-17T12:41:09.945Z"
   },
   {
    "duration": 70,
    "start_time": "2022-02-17T12:41:09.968Z"
   },
   {
    "duration": 57,
    "start_time": "2022-02-17T12:41:10.040Z"
   },
   {
    "duration": 27,
    "start_time": "2022-02-17T12:41:10.099Z"
   },
   {
    "duration": 136,
    "start_time": "2022-02-17T12:41:10.128Z"
   },
   {
    "duration": 129,
    "start_time": "2022-02-17T12:41:10.266Z"
   },
   {
    "duration": 149,
    "start_time": "2022-02-17T12:41:10.397Z"
   },
   {
    "duration": 5,
    "start_time": "2022-02-17T12:41:10.547Z"
   },
   {
    "duration": 133,
    "start_time": "2022-02-17T12:41:10.553Z"
   },
   {
    "duration": 146,
    "start_time": "2022-02-17T12:41:10.687Z"
   },
   {
    "duration": 125,
    "start_time": "2022-02-17T12:41:10.835Z"
   },
   {
    "duration": 19,
    "start_time": "2022-02-17T12:45:56.155Z"
   },
   {
    "duration": 1709,
    "start_time": "2022-02-17T17:46:25.363Z"
   },
   {
    "duration": 1195,
    "start_time": "2022-02-17T17:46:27.075Z"
   },
   {
    "duration": 218,
    "start_time": "2022-02-17T17:46:28.272Z"
   },
   {
    "duration": 22,
    "start_time": "2022-02-17T17:46:28.492Z"
   },
   {
    "duration": 7,
    "start_time": "2022-02-17T17:46:28.516Z"
   },
   {
    "duration": 176,
    "start_time": "2022-02-17T17:46:28.525Z"
   },
   {
    "duration": 76,
    "start_time": "2022-02-17T17:46:28.703Z"
   },
   {
    "duration": 187,
    "start_time": "2022-02-17T17:46:28.782Z"
   },
   {
    "duration": 39,
    "start_time": "2022-02-17T17:46:28.972Z"
   },
   {
    "duration": 27,
    "start_time": "2022-02-17T17:46:29.013Z"
   },
   {
    "duration": 161,
    "start_time": "2022-02-17T17:46:29.041Z"
   },
   {
    "duration": 74,
    "start_time": "2022-02-17T17:46:29.204Z"
   },
   {
    "duration": 5,
    "start_time": "2022-02-17T17:46:29.280Z"
   },
   {
    "duration": 33,
    "start_time": "2022-02-17T17:46:29.287Z"
   },
   {
    "duration": 278,
    "start_time": "2022-02-17T17:46:29.322Z"
   },
   {
    "duration": 69,
    "start_time": "2022-02-17T17:46:29.602Z"
   },
   {
    "duration": 23,
    "start_time": "2022-02-17T17:46:29.673Z"
   },
   {
    "duration": 22,
    "start_time": "2022-02-17T17:46:29.698Z"
   },
   {
    "duration": 21,
    "start_time": "2022-02-17T17:46:29.722Z"
   },
   {
    "duration": 868,
    "start_time": "2022-02-17T17:46:29.745Z"
   },
   {
    "duration": 47,
    "start_time": "2022-02-17T17:46:30.615Z"
   },
   {
    "duration": 637,
    "start_time": "2022-02-17T17:46:30.670Z"
   },
   {
    "duration": 70,
    "start_time": "2022-02-17T17:46:31.310Z"
   },
   {
    "duration": 318,
    "start_time": "2022-02-17T17:46:31.382Z"
   },
   {
    "duration": 20,
    "start_time": "2022-02-17T17:46:31.702Z"
   },
   {
    "duration": 47,
    "start_time": "2022-02-17T17:46:31.724Z"
   },
   {
    "duration": 19,
    "start_time": "2022-02-17T17:46:31.772Z"
   },
   {
    "duration": 87,
    "start_time": "2022-02-17T17:46:31.793Z"
   },
   {
    "duration": 72,
    "start_time": "2022-02-17T17:46:31.882Z"
   },
   {
    "duration": 31,
    "start_time": "2022-02-17T17:46:31.956Z"
   },
   {
    "duration": 206,
    "start_time": "2022-02-17T17:46:31.989Z"
   },
   {
    "duration": 176,
    "start_time": "2022-02-17T17:46:32.197Z"
   },
   {
    "duration": 156,
    "start_time": "2022-02-17T17:46:32.376Z"
   },
   {
    "duration": 6,
    "start_time": "2022-02-17T17:46:32.534Z"
   },
   {
    "duration": 176,
    "start_time": "2022-02-17T17:46:32.543Z"
   },
   {
    "duration": 227,
    "start_time": "2022-02-17T17:46:32.721Z"
   },
   {
    "duration": 171,
    "start_time": "2022-02-17T17:46:32.950Z"
   },
   {
    "duration": 291,
    "start_time": "2022-02-18T08:51:09.431Z"
   },
   {
    "duration": 2023,
    "start_time": "2022-02-18T08:51:13.953Z"
   },
   {
    "duration": 1508,
    "start_time": "2022-02-18T08:51:15.979Z"
   },
   {
    "duration": 238,
    "start_time": "2022-02-18T08:51:17.490Z"
   },
   {
    "duration": 27,
    "start_time": "2022-02-18T08:51:17.731Z"
   },
   {
    "duration": 32,
    "start_time": "2022-02-18T08:51:17.761Z"
   },
   {
    "duration": 203,
    "start_time": "2022-02-18T08:51:17.796Z"
   },
   {
    "duration": 92,
    "start_time": "2022-02-18T08:51:18.002Z"
   },
   {
    "duration": 245,
    "start_time": "2022-02-18T08:51:18.097Z"
   },
   {
    "duration": 27,
    "start_time": "2022-02-18T08:51:18.344Z"
   },
   {
    "duration": 43,
    "start_time": "2022-02-18T08:51:18.373Z"
   },
   {
    "duration": 201,
    "start_time": "2022-02-18T08:51:18.419Z"
   },
   {
    "duration": 84,
    "start_time": "2022-02-18T08:51:18.623Z"
   },
   {
    "duration": 7,
    "start_time": "2022-02-18T08:51:18.709Z"
   },
   {
    "duration": 35,
    "start_time": "2022-02-18T08:51:18.718Z"
   },
   {
    "duration": 368,
    "start_time": "2022-02-18T08:51:18.755Z"
   },
   {
    "duration": 86,
    "start_time": "2022-02-18T08:51:19.126Z"
   },
   {
    "duration": 50,
    "start_time": "2022-02-18T08:51:25.269Z"
   },
   {
    "duration": 399,
    "start_time": "2022-02-18T08:51:41.951Z"
   },
   {
    "duration": 283,
    "start_time": "2022-02-18T08:51:55.001Z"
   },
   {
    "duration": 325,
    "start_time": "2022-02-18T08:52:16.137Z"
   },
   {
    "duration": 303,
    "start_time": "2022-02-18T08:52:42.659Z"
   },
   {
    "duration": 309,
    "start_time": "2022-02-18T08:52:57.490Z"
   },
   {
    "duration": 283,
    "start_time": "2022-02-18T08:53:12.822Z"
   },
   {
    "duration": 74,
    "start_time": "2022-02-18T08:54:20.992Z"
   },
   {
    "duration": 321,
    "start_time": "2022-02-18T08:54:52.174Z"
   },
   {
    "duration": 305,
    "start_time": "2022-02-18T08:55:20.561Z"
   },
   {
    "duration": 54,
    "start_time": "2022-02-18T08:56:14.024Z"
   },
   {
    "duration": 45,
    "start_time": "2022-02-18T08:56:22.526Z"
   },
   {
    "duration": 75,
    "start_time": "2022-02-18T08:57:47.453Z"
   },
   {
    "duration": 49,
    "start_time": "2022-02-18T08:57:51.773Z"
   },
   {
    "duration": 45,
    "start_time": "2022-02-18T08:58:06.850Z"
   },
   {
    "duration": 45,
    "start_time": "2022-02-18T08:58:12.170Z"
   },
   {
    "duration": 82,
    "start_time": "2022-02-18T09:01:22.434Z"
   },
   {
    "duration": 78,
    "start_time": "2022-02-18T09:01:44.371Z"
   },
   {
    "duration": 78,
    "start_time": "2022-02-18T09:02:11.360Z"
   },
   {
    "duration": 77,
    "start_time": "2022-02-18T09:02:21.193Z"
   },
   {
    "duration": 131,
    "start_time": "2022-02-18T09:02:35.391Z"
   },
   {
    "duration": 82,
    "start_time": "2022-02-18T09:02:40.659Z"
   },
   {
    "duration": 81,
    "start_time": "2022-02-18T09:02:48.677Z"
   },
   {
    "duration": 78,
    "start_time": "2022-02-18T09:03:10.127Z"
   },
   {
    "duration": 68,
    "start_time": "2022-02-18T09:03:38.634Z"
   },
   {
    "duration": 66,
    "start_time": "2022-02-18T09:03:43.330Z"
   },
   {
    "duration": 660,
    "start_time": "2022-02-18T09:07:08.179Z"
   },
   {
    "duration": 650,
    "start_time": "2022-02-18T09:07:52.416Z"
   },
   {
    "duration": 7,
    "start_time": "2022-02-18T09:09:05.682Z"
   },
   {
    "duration": 25,
    "start_time": "2022-02-18T09:09:11.573Z"
   },
   {
    "duration": 50,
    "start_time": "2022-02-18T09:10:01.530Z"
   },
   {
    "duration": 239,
    "start_time": "2022-02-18T09:10:07.568Z"
   },
   {
    "duration": 50,
    "start_time": "2022-02-18T09:11:45.549Z"
   },
   {
    "duration": 307,
    "start_time": "2022-02-18T09:12:15.810Z"
   },
   {
    "duration": 5,
    "start_time": "2022-02-18T09:15:16.150Z"
   },
   {
    "duration": 1886,
    "start_time": "2022-02-18T09:15:16.161Z"
   },
   {
    "duration": 151,
    "start_time": "2022-02-18T09:15:18.050Z"
   },
   {
    "duration": 26,
    "start_time": "2022-02-18T09:15:18.204Z"
   },
   {
    "duration": 7,
    "start_time": "2022-02-18T09:15:18.233Z"
   },
   {
    "duration": 219,
    "start_time": "2022-02-18T09:15:18.242Z"
   },
   {
    "duration": 96,
    "start_time": "2022-02-18T09:15:18.463Z"
   },
   {
    "duration": 244,
    "start_time": "2022-02-18T09:15:18.562Z"
   },
   {
    "duration": 28,
    "start_time": "2022-02-18T09:15:18.812Z"
   },
   {
    "duration": 53,
    "start_time": "2022-02-18T09:15:18.844Z"
   },
   {
    "duration": 177,
    "start_time": "2022-02-18T09:15:18.900Z"
   },
   {
    "duration": 77,
    "start_time": "2022-02-18T09:15:19.080Z"
   },
   {
    "duration": 6,
    "start_time": "2022-02-18T09:15:19.159Z"
   },
   {
    "duration": 52,
    "start_time": "2022-02-18T09:15:19.167Z"
   },
   {
    "duration": 341,
    "start_time": "2022-02-18T09:15:19.222Z"
   },
   {
    "duration": 90,
    "start_time": "2022-02-18T09:15:19.565Z"
   },
   {
    "duration": 79,
    "start_time": "2022-02-18T09:15:19.658Z"
   },
   {
    "duration": 25,
    "start_time": "2022-02-18T09:15:19.740Z"
   },
   {
    "duration": 59,
    "start_time": "2022-02-18T09:15:19.768Z"
   },
   {
    "duration": 29,
    "start_time": "2022-02-18T09:15:19.829Z"
   },
   {
    "duration": 814,
    "start_time": "2022-02-18T09:15:19.861Z"
   },
   {
    "duration": 46,
    "start_time": "2022-02-18T09:15:20.678Z"
   },
   {
    "duration": 992,
    "start_time": "2022-02-18T09:15:20.727Z"
   },
   {
    "duration": 73,
    "start_time": "2022-02-18T09:15:21.724Z"
   },
   {
    "duration": 337,
    "start_time": "2022-02-18T09:15:21.800Z"
   },
   {
    "duration": 24,
    "start_time": "2022-02-18T09:15:22.139Z"
   },
   {
    "duration": 44,
    "start_time": "2022-02-18T09:15:22.166Z"
   },
   {
    "duration": 26,
    "start_time": "2022-02-18T09:15:22.213Z"
   },
   {
    "duration": 102,
    "start_time": "2022-02-18T09:15:22.241Z"
   },
   {
    "duration": 98,
    "start_time": "2022-02-18T09:15:22.345Z"
   },
   {
    "duration": 20,
    "start_time": "2022-02-18T09:15:22.445Z"
   },
   {
    "duration": 186,
    "start_time": "2022-02-18T09:15:22.468Z"
   },
   {
    "duration": 193,
    "start_time": "2022-02-18T09:15:22.657Z"
   },
   {
    "duration": 192,
    "start_time": "2022-02-18T09:15:22.852Z"
   },
   {
    "duration": 7,
    "start_time": "2022-02-18T09:15:23.047Z"
   },
   {
    "duration": 184,
    "start_time": "2022-02-18T09:15:23.057Z"
   },
   {
    "duration": 197,
    "start_time": "2022-02-18T09:15:23.244Z"
   },
   {
    "duration": 192,
    "start_time": "2022-02-18T09:15:23.443Z"
   },
   {
    "duration": 1508,
    "start_time": "2022-02-18T11:13:17.029Z"
   },
   {
    "duration": 1065,
    "start_time": "2022-02-18T11:13:18.539Z"
   },
   {
    "duration": 187,
    "start_time": "2022-02-18T11:13:19.606Z"
   },
   {
    "duration": 20,
    "start_time": "2022-02-18T11:13:19.796Z"
   },
   {
    "duration": 8,
    "start_time": "2022-02-18T11:13:19.817Z"
   },
   {
    "duration": 159,
    "start_time": "2022-02-18T11:13:19.827Z"
   },
   {
    "duration": 72,
    "start_time": "2022-02-18T11:13:19.988Z"
   },
   {
    "duration": 182,
    "start_time": "2022-02-18T11:13:20.062Z"
   },
   {
    "duration": 26,
    "start_time": "2022-02-18T11:13:20.247Z"
   },
   {
    "duration": 32,
    "start_time": "2022-02-18T11:13:20.275Z"
   },
   {
    "duration": 137,
    "start_time": "2022-02-18T11:13:20.309Z"
   },
   {
    "duration": 66,
    "start_time": "2022-02-18T11:13:20.447Z"
   },
   {
    "duration": 5,
    "start_time": "2022-02-18T11:13:20.515Z"
   },
   {
    "duration": 48,
    "start_time": "2022-02-18T11:13:20.522Z"
   },
   {
    "duration": 274,
    "start_time": "2022-02-18T11:13:20.572Z"
   },
   {
    "duration": 66,
    "start_time": "2022-02-18T11:13:20.848Z"
   },
   {
    "duration": 68,
    "start_time": "2022-02-18T11:13:20.916Z"
   },
   {
    "duration": 21,
    "start_time": "2022-02-18T11:13:20.987Z"
   },
   {
    "duration": 23,
    "start_time": "2022-02-18T11:13:21.010Z"
   },
   {
    "duration": 38,
    "start_time": "2022-02-18T11:13:21.035Z"
   },
   {
    "duration": 708,
    "start_time": "2022-02-18T11:13:21.075Z"
   },
   {
    "duration": 41,
    "start_time": "2022-02-18T11:13:21.785Z"
   },
   {
    "duration": 576,
    "start_time": "2022-02-18T11:13:21.829Z"
   },
   {
    "duration": 57,
    "start_time": "2022-02-18T11:13:22.408Z"
   },
   {
    "duration": 273,
    "start_time": "2022-02-18T11:13:22.467Z"
   },
   {
    "duration": 26,
    "start_time": "2022-02-18T11:13:22.741Z"
   },
   {
    "duration": 19,
    "start_time": "2022-02-18T11:13:22.769Z"
   },
   {
    "duration": 21,
    "start_time": "2022-02-18T11:13:22.790Z"
   },
   {
    "duration": 87,
    "start_time": "2022-02-18T11:13:22.813Z"
   },
   {
    "duration": 84,
    "start_time": "2022-02-18T11:13:22.902Z"
   },
   {
    "duration": 16,
    "start_time": "2022-02-18T11:13:22.989Z"
   },
   {
    "duration": 160,
    "start_time": "2022-02-18T11:13:23.007Z"
   },
   {
    "duration": 150,
    "start_time": "2022-02-18T11:13:23.169Z"
   },
   {
    "duration": 165,
    "start_time": "2022-02-18T11:13:23.320Z"
   },
   {
    "duration": 5,
    "start_time": "2022-02-18T11:13:23.487Z"
   },
   {
    "duration": 150,
    "start_time": "2022-02-18T11:13:23.493Z"
   },
   {
    "duration": 170,
    "start_time": "2022-02-18T11:13:23.644Z"
   },
   {
    "duration": 169,
    "start_time": "2022-02-18T11:13:23.816Z"
   },
   {
    "duration": 348,
    "start_time": "2022-02-18T11:21:54.402Z"
   },
   {
    "duration": 221,
    "start_time": "2022-02-18T11:22:05.445Z"
   },
   {
    "duration": 204,
    "start_time": "2022-02-18T11:22:50.209Z"
   },
   {
    "duration": 309,
    "start_time": "2022-02-18T11:22:54.835Z"
   },
   {
    "duration": 216,
    "start_time": "2022-02-18T11:23:25.239Z"
   },
   {
    "duration": 244,
    "start_time": "2022-02-18T11:23:28.776Z"
   },
   {
    "duration": 287,
    "start_time": "2022-02-18T11:23:37.217Z"
   },
   {
    "duration": 300,
    "start_time": "2022-02-18T11:23:44.571Z"
   },
   {
    "duration": 4406,
    "start_time": "2022-02-18T11:26:24.678Z"
   },
   {
    "duration": 613,
    "start_time": "2022-02-18T11:26:40.291Z"
   },
   {
    "duration": 584,
    "start_time": "2022-02-18T11:26:48.714Z"
   },
   {
    "duration": 745,
    "start_time": "2022-02-18T11:27:06.519Z"
   },
   {
    "duration": 564,
    "start_time": "2022-02-18T11:27:11.239Z"
   },
   {
    "duration": 50,
    "start_time": "2022-02-18T11:31:23.691Z"
   },
   {
    "duration": 35,
    "start_time": "2022-02-18T11:31:33.414Z"
   },
   {
    "duration": 18,
    "start_time": "2022-02-18T11:32:14.811Z"
   },
   {
    "duration": 1953,
    "start_time": "2022-02-18T13:06:40.871Z"
   },
   {
    "duration": 1613,
    "start_time": "2022-02-18T13:06:42.827Z"
   },
   {
    "duration": 238,
    "start_time": "2022-02-18T13:06:44.442Z"
   },
   {
    "duration": 29,
    "start_time": "2022-02-18T13:06:44.694Z"
   },
   {
    "duration": 9,
    "start_time": "2022-02-18T13:06:44.726Z"
   },
   {
    "duration": 249,
    "start_time": "2022-02-18T13:06:44.738Z"
   },
   {
    "duration": 87,
    "start_time": "2022-02-18T13:06:44.989Z"
   },
   {
    "duration": 254,
    "start_time": "2022-02-18T13:06:45.096Z"
   },
   {
    "duration": 42,
    "start_time": "2022-02-18T13:06:45.354Z"
   },
   {
    "duration": 31,
    "start_time": "2022-02-18T13:06:45.398Z"
   },
   {
    "duration": 220,
    "start_time": "2022-02-18T13:06:45.431Z"
   },
   {
    "duration": 79,
    "start_time": "2022-02-18T13:06:45.654Z"
   },
   {
    "duration": 6,
    "start_time": "2022-02-18T13:06:45.736Z"
   },
   {
    "duration": 59,
    "start_time": "2022-02-18T13:06:45.745Z"
   },
   {
    "duration": 355,
    "start_time": "2022-02-18T13:06:45.807Z"
   },
   {
    "duration": 982,
    "start_time": "2022-02-18T13:06:46.164Z"
   },
   {
    "duration": 101,
    "start_time": "2022-02-18T13:06:47.148Z"
   },
   {
    "duration": 89,
    "start_time": "2022-02-18T13:06:47.252Z"
   },
   {
    "duration": 51,
    "start_time": "2022-02-18T13:06:47.344Z"
   },
   {
    "duration": 34,
    "start_time": "2022-02-18T13:06:47.397Z"
   },
   {
    "duration": 29,
    "start_time": "2022-02-18T13:06:47.433Z"
   },
   {
    "duration": 884,
    "start_time": "2022-02-18T13:06:47.464Z"
   },
   {
    "duration": 55,
    "start_time": "2022-02-18T13:06:48.353Z"
   },
   {
    "duration": 908,
    "start_time": "2022-02-18T13:06:48.411Z"
   },
   {
    "duration": 108,
    "start_time": "2022-02-18T13:06:49.322Z"
   },
   {
    "duration": 390,
    "start_time": "2022-02-18T13:06:49.433Z"
   },
   {
    "duration": 29,
    "start_time": "2022-02-18T13:06:49.826Z"
   },
   {
    "duration": 51,
    "start_time": "2022-02-18T13:06:49.858Z"
   },
   {
    "duration": 26,
    "start_time": "2022-02-18T13:06:49.912Z"
   },
   {
    "duration": 123,
    "start_time": "2022-02-18T13:06:49.941Z"
   },
   {
    "duration": 106,
    "start_time": "2022-02-18T13:06:50.066Z"
   },
   {
    "duration": 42,
    "start_time": "2022-02-18T13:06:50.175Z"
   },
   {
    "duration": 328,
    "start_time": "2022-02-18T13:06:50.220Z"
   },
   {
    "duration": 251,
    "start_time": "2022-02-18T13:06:50.552Z"
   },
   {
    "duration": 215,
    "start_time": "2022-02-18T13:06:50.806Z"
   },
   {
    "duration": 8,
    "start_time": "2022-02-18T13:06:51.023Z"
   },
   {
    "duration": 202,
    "start_time": "2022-02-18T13:06:51.033Z"
   },
   {
    "duration": 236,
    "start_time": "2022-02-18T13:06:51.237Z"
   },
   {
    "duration": 204,
    "start_time": "2022-02-18T13:06:51.476Z"
   },
   {
    "duration": 183,
    "start_time": "2022-02-18T13:12:22.815Z"
   },
   {
    "duration": 2028,
    "start_time": "2022-02-21T13:22:12.227Z"
   },
   {
    "duration": 1541,
    "start_time": "2022-02-21T13:22:14.258Z"
   },
   {
    "duration": 234,
    "start_time": "2022-02-21T13:22:15.802Z"
   },
   {
    "duration": 26,
    "start_time": "2022-02-21T13:22:16.039Z"
   },
   {
    "duration": 10,
    "start_time": "2022-02-21T13:22:16.092Z"
   },
   {
    "duration": 212,
    "start_time": "2022-02-21T13:22:16.105Z"
   },
   {
    "duration": 96,
    "start_time": "2022-02-21T13:22:16.320Z"
   },
   {
    "duration": 254,
    "start_time": "2022-02-21T13:22:16.419Z"
   },
   {
    "duration": 40,
    "start_time": "2022-02-21T13:22:16.679Z"
   },
   {
    "duration": 37,
    "start_time": "2022-02-21T13:22:16.722Z"
   },
   {
    "duration": 202,
    "start_time": "2022-02-21T13:22:16.761Z"
   },
   {
    "duration": 94,
    "start_time": "2022-02-21T13:22:16.966Z"
   },
   {
    "duration": 31,
    "start_time": "2022-02-21T13:22:17.063Z"
   },
   {
    "duration": 48,
    "start_time": "2022-02-21T13:22:17.097Z"
   },
   {
    "duration": 505,
    "start_time": "2022-02-21T13:22:17.148Z"
   },
   {
    "duration": 1473,
    "start_time": "2022-02-21T13:22:17.656Z"
   },
   {
    "duration": 99,
    "start_time": "2022-02-21T13:22:19.131Z"
   },
   {
    "duration": 88,
    "start_time": "2022-02-21T13:22:19.232Z"
   },
   {
    "duration": 32,
    "start_time": "2022-02-21T13:22:19.323Z"
   },
   {
    "duration": 56,
    "start_time": "2022-02-21T13:22:19.358Z"
   },
   {
    "duration": 31,
    "start_time": "2022-02-21T13:22:19.417Z"
   },
   {
    "duration": 838,
    "start_time": "2022-02-21T13:22:19.451Z"
   },
   {
    "duration": 44,
    "start_time": "2022-02-21T13:22:20.294Z"
   },
   {
    "duration": 887,
    "start_time": "2022-02-21T13:22:20.341Z"
   },
   {
    "duration": 110,
    "start_time": "2022-02-21T13:22:21.230Z"
   },
   {
    "duration": 418,
    "start_time": "2022-02-21T13:22:21.395Z"
   },
   {
    "duration": 41,
    "start_time": "2022-02-21T13:22:21.821Z"
   },
   {
    "duration": 61,
    "start_time": "2022-02-21T13:22:21.865Z"
   },
   {
    "duration": 31,
    "start_time": "2022-02-21T13:22:21.929Z"
   },
   {
    "duration": 126,
    "start_time": "2022-02-21T13:22:21.962Z"
   },
   {
    "duration": 112,
    "start_time": "2022-02-21T13:22:22.093Z"
   },
   {
    "duration": 23,
    "start_time": "2022-02-21T13:22:22.208Z"
   },
   {
    "duration": 225,
    "start_time": "2022-02-21T13:22:22.234Z"
   },
   {
    "duration": 325,
    "start_time": "2022-02-21T13:22:22.461Z"
   },
   {
    "duration": 220,
    "start_time": "2022-02-21T13:22:22.795Z"
   },
   {
    "duration": 7,
    "start_time": "2022-02-21T13:22:23.018Z"
   },
   {
    "duration": 219,
    "start_time": "2022-02-21T13:22:23.027Z"
   },
   {
    "duration": 224,
    "start_time": "2022-02-21T13:22:23.248Z"
   },
   {
    "duration": 208,
    "start_time": "2022-02-21T13:22:23.475Z"
   }
  ],
  "kernelspec": {
   "display_name": "Python 3 (ipykernel)",
   "language": "python",
   "name": "python3"
  },
  "language_info": {
   "codemirror_mode": {
    "name": "ipython",
    "version": 3
   },
   "file_extension": ".py",
   "mimetype": "text/x-python",
   "name": "python",
   "nbconvert_exporter": "python",
   "pygments_lexer": "ipython3",
   "version": "3.9.7"
  },
  "toc": {
   "base_numbering": 1,
   "nav_menu": {},
   "number_sections": true,
   "sideBar": true,
   "skip_h1_title": true,
   "title_cell": "Table of Contents",
   "title_sidebar": "Contents",
   "toc_cell": false,
   "toc_position": {},
   "toc_section_display": true,
   "toc_window_display": false
  }
 },
 "nbformat": 4,
 "nbformat_minor": 2
}
